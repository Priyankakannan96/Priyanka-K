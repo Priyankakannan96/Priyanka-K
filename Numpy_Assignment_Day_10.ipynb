{
  "cells": [
    {
      "cell_type": "markdown",
      "metadata": {
        "id": "view-in-github",
        "colab_type": "text"
      },
      "source": [
        "<a href=\"https://colab.research.google.com/github/Priyankakannan96/Priyanka-K/blob/main/Numpy_Assignment_Day_10.ipynb\" target=\"_parent\"><img src=\"https://colab.research.google.com/assets/colab-badge.svg\" alt=\"Open In Colab\"/></a>"
      ]
    },
    {
      "cell_type": "markdown",
      "metadata": {
        "id": "v_5a6dEGYukp"
      },
      "source": [
        "# <center> Numpy Basics </center>"
      ]
    },
    {
      "cell_type": "code",
      "execution_count": null,
      "metadata": {
        "id": "NnhU92SsYukv"
      },
      "outputs": [],
      "source": [
        "#import numpy module with alias np\n",
        "\n",
        "import numpy as np"
      ]
    },
    {
      "cell_type": "markdown",
      "metadata": {
        "id": "onEY9HMeYuk0"
      },
      "source": [
        "We can create a NumPy ndarray object by using the array() function.\n",
        "To create an ndarray, we can pass a list, tuple or any array-like object into the array() method, and it will be converted into an ndarray:\n"
      ]
    },
    {
      "cell_type": "code",
      "execution_count": null,
      "metadata": {
        "id": "BCdPh0rqYuk0"
      },
      "outputs": [],
      "source": [
        "# Define a numpy array passing a list with  1,2 and 3 as elements in it\n",
        "a1= np.array([1,2,3])\n",
        "\n"
      ]
    },
    {
      "cell_type": "code",
      "execution_count": null,
      "metadata": {
        "id": "up-97mFyYuk1",
        "colab": {
          "base_uri": "https://localhost:8080/"
        },
        "outputId": "6c370c3a-436d-4ced-aea7-4351a2417b70"
      },
      "outputs": [
        {
          "output_type": "stream",
          "name": "stdout",
          "text": [
            "[1 2 3]\n"
          ]
        }
      ],
      "source": [
        "# print output\n",
        "print(a1)\n"
      ]
    },
    {
      "cell_type": "markdown",
      "metadata": {
        "id": "I5wC2n70Yuk2"
      },
      "source": [
        "## Dimensions in Arrays\n",
        "\n",
        "Create arrays of different dimentions.\n",
        "\n",
        "a=A numpy array with one single integer 10\n",
        "\n",
        "b=A numpy array passing a list having a list= [1,2,3]\n",
        "\n",
        "c=A numpy array passing nested list having [[1, 2, 3], [4, 5, 6]] as elements\n",
        "\n",
        "d=A numpy array passing nested list having [[[1, 2, 3], [4, 5, 6]], [[1, 2, 3], [4, 5, 6]]] as elements"
      ]
    },
    {
      "cell_type": "code",
      "source": [],
      "metadata": {
        "id": "0-5CUHLr48-n"
      },
      "execution_count": null,
      "outputs": []
    },
    {
      "cell_type": "code",
      "execution_count": null,
      "metadata": {
        "id": "75VeuGacYuk3"
      },
      "outputs": [],
      "source": [
        "#define a,b,c and d as instructed above\n",
        "\n",
        "a = np.array(10)\n",
        "b= np.array([1,2,3])\n",
        "c= np.array ([[1, 2, 3], [4, 5, 6]])\n",
        "d= np.array ([[[1, 2, 3], [4, 5, 6]], [[1, 2, 3], [4, 5, 6]]])\n",
        "\n",
        "\n"
      ]
    },
    {
      "cell_type": "markdown",
      "metadata": {
        "id": "qtUQhJgsYuk5"
      },
      "source": [
        "Are you ready to check its dimention? Use ndim attribute on each variable to check its dimention"
      ]
    },
    {
      "cell_type": "code",
      "execution_count": null,
      "metadata": {
        "id": "WqRlO_elYuk6",
        "colab": {
          "base_uri": "https://localhost:8080/"
        },
        "outputId": "e05517e0-1ed4-4756-f677-ea1d7b72c9f0"
      },
      "outputs": [
        {
          "output_type": "stream",
          "name": "stdout",
          "text": [
            "10 [1 2 3] [[1 2 3]\n",
            " [4 5 6]] [[[1 2 3]\n",
            "  [4 5 6]]\n",
            "\n",
            " [[1 2 3]\n",
            "  [4 5 6]]]\n",
            "0\n",
            "1\n",
            "2\n",
            "3\n"
          ]
        }
      ],
      "source": [
        "#print dimentions of a,b, c and d\n",
        "print(a,b,c,d)\n",
        "print(np.ndim(a))\n",
        "print(np.ndim(b))\n",
        "print(np.ndim(c))\n",
        "print(np.ndim(d))\n",
        "\n",
        "\n"
      ]
    },
    {
      "cell_type": "markdown",
      "metadata": {
        "id": "GdfDcthEYuk7"
      },
      "source": [
        "Hey hey. Did you see! you have created 0-D,1-DeprecationWarning, 2-D and 3-D arrays.\n",
        "\n",
        "Lets print there shape as well. You can check shape using shape attribute\n",
        "\n"
      ]
    },
    {
      "cell_type": "code",
      "execution_count": null,
      "metadata": {
        "id": "Dbo7BMcNYuk8",
        "colab": {
          "base_uri": "https://localhost:8080/"
        },
        "outputId": "ac911854-3fda-4455-ee42-59f837bce1f8"
      },
      "outputs": [
        {
          "output_type": "stream",
          "name": "stdout",
          "text": [
            "\n",
            "Shapes:\n",
            "()\n",
            "(3,)\n",
            "(2, 3)\n",
            "(2, 2, 3)\n"
          ]
        }
      ],
      "source": [
        "# print shape of each a,b ,c and d\n",
        "print(\"\\nShapes:\")\n",
        "print(a.shape)\n",
        "print(b.shape)\n",
        "print(c.shape)\n",
        "print(d.shape)\n",
        "\n",
        "\n",
        "\n"
      ]
    },
    {
      "cell_type": "markdown",
      "metadata": {
        "id": "zznIHO2BYuk8"
      },
      "source": [
        "Lets check data type passed in our array. To check data type you can use dtype attribute"
      ]
    },
    {
      "cell_type": "code",
      "execution_count": null,
      "metadata": {
        "id": "IqR87PE-Yuk9",
        "colab": {
          "base_uri": "https://localhost:8080/"
        },
        "outputId": "181d7cb7-ac33-4b00-b09b-8814e5c6b136"
      },
      "outputs": [
        {
          "output_type": "stream",
          "name": "stdout",
          "text": [
            "int64\n",
            "int64\n"
          ]
        }
      ],
      "source": [
        "# print data type of c and d\n",
        "print(c.dtype)\n",
        "print(d.dtype)\n",
        "\n",
        "\n"
      ]
    },
    {
      "cell_type": "markdown",
      "metadata": {
        "id": "bvZI9gIfYuk9"
      },
      "source": [
        "Above output mean our array is having int type elements in it."
      ]
    },
    {
      "cell_type": "markdown",
      "metadata": {
        "id": "JTIMcpHZYuk9"
      },
      "source": [
        "Lets check the type of our variable. To check type of any numpy variable use type() function"
      ]
    },
    {
      "cell_type": "code",
      "execution_count": null,
      "metadata": {
        "id": "4XscrKR9Yuk9",
        "colab": {
          "base_uri": "https://localhost:8080/"
        },
        "outputId": "166fbeab-9d7c-4407-b527-bbe318beca22"
      },
      "outputs": [
        {
          "output_type": "stream",
          "name": "stdout",
          "text": [
            "<class 'numpy.ndarray'>\n",
            "<class 'numpy.ndarray'>\n"
          ]
        }
      ],
      "source": [
        "#print type of a and b variable\n",
        "print(type(a))\n",
        "print(type(b))\n",
        "\n",
        "\n",
        "\n"
      ]
    },
    {
      "cell_type": "code",
      "execution_count": null,
      "metadata": {
        "id": "cmEidey1Yuk9",
        "colab": {
          "base_uri": "https://localhost:8080/"
        },
        "outputId": "cd4aebc2-b87a-45ae-cef3-3c7a78a0368a"
      },
      "outputs": [
        {
          "output_type": "stream",
          "name": "stdout",
          "text": [
            "3\n"
          ]
        }
      ],
      "source": [
        "# Lets check length of array b, using len() function\n",
        "print(len(b))"
      ]
    },
    {
      "cell_type": "markdown",
      "metadata": {
        "id": "8k-sX7zmYuk-"
      },
      "source": [
        "Bravo!You have Defined ndarray i.e numpy array in variable a nd b. Also you have successfully learned how to create numpy."
      ]
    },
    {
      "cell_type": "code",
      "source": [],
      "metadata": {
        "id": "R4ylxj2I_Xra"
      },
      "execution_count": null,
      "outputs": []
    },
    {
      "cell_type": "markdown",
      "metadata": {
        "id": "bl8PwahHYuk-"
      },
      "source": [
        "Create two list l1 and l2 where, l1=[10,20,30] and l2=[40,50,60]\n",
        "Also define two numpy arrays l3,l4 where l3 has l1 as element and l4 has l2 as element\n"
      ]
    },
    {
      "cell_type": "code",
      "execution_count": 3,
      "metadata": {
        "id": "-cZT6aZlYuk-",
        "colab": {
          "base_uri": "https://localhost:8080/"
        },
        "outputId": "ef93d2e1-35fe-4e42-88ca-57642454caa0"
      },
      "outputs": [
        {
          "output_type": "stream",
          "name": "stdout",
          "text": [
            "List l1: [10, 20, 30]\n",
            "List l2: [40, 50, 60]\n",
            "NumPy array l3: [10 20 30]\n",
            "NumPy array l4: [40 50 60]\n"
          ]
        }
      ],
      "source": [
        "# Define l1,l2,l3 and l4 as stated above.\n",
        "import numpy as np\n",
        "\n",
        "# Create lists\n",
        "l1 = [10, 20, 30]\n",
        "l2 = [40, 50, 60]\n",
        "\n",
        "# Create NumPy arrays\n",
        "l3 = np.array(l1)\n",
        "l4 = np.array(l2)\n",
        "\n",
        "print(\"List l1:\", l1)\n",
        "print(\"List l2:\", l2)\n",
        "print(\"NumPy array l3:\", l3)\n",
        "print(\"NumPy array l4:\", l4)\n",
        "\n"
      ]
    },
    {
      "cell_type": "markdown",
      "metadata": {
        "id": "9muN0ZR5Yuk-"
      },
      "source": [
        "Lets multiply each elements of l1 with corresponding elements of l2\n",
        "\n",
        "Here use list comprehention to do so. Lets see how much you remember your work in other assignments.\n",
        "\n",
        "Note: use %timeit as prefix before your line of code inorder to calculate total time taken to run that line<br>\n",
        "eg. %timeit my_code"
      ]
    },
    {
      "cell_type": "code",
      "execution_count": 7,
      "metadata": {
        "id": "Gt0o_ZSCYuk_",
        "colab": {
          "base_uri": "https://localhost:8080/"
        },
        "outputId": "9622a6ae-b3ba-4681-ec2a-50267efee24f"
      },
      "outputs": [
        {
          "output_type": "stream",
          "name": "stdout",
          "text": [
            "Result using list comprehension: [6, 14, 24, 36, 50]\n",
            "967 ns ± 262 ns per loop (mean ± std. dev. of 7 runs, 1000000 loops each)\n"
          ]
        }
      ],
      "source": [
        "#code here as instructed above\n",
        "result_list = [a * b for a, b in zip(l1, l2)]\n",
        "print(\"Result using list comprehension:\", result_list)\n",
        "\n",
        "%timeit [a * b for a, b in zip(l1, l2)]\n"
      ]
    },
    {
      "cell_type": "markdown",
      "metadata": {
        "id": "xT45pl-RYuk_"
      },
      "source": [
        "Lets mulptiply l3 and l4\n",
        "\n",
        "Note: use %timeit as prefix before your line of code inorder to calculate total time taken to run that line"
      ]
    },
    {
      "cell_type": "code",
      "execution_count": 12,
      "metadata": {
        "id": "SceA6IrwYuk_",
        "colab": {
          "base_uri": "https://localhost:8080/"
        },
        "outputId": "4c8c2d7e-33e1-4bc7-8e1b-11646265a9d7"
      },
      "outputs": [
        {
          "output_type": "stream",
          "name": "stdout",
          "text": [
            "Result using list comprehension: [400, 1000, 1800]\n",
            "559 ns ± 9.15 ns per loop (mean ± std. dev. of 7 runs, 1000000 loops each)\n"
          ]
        }
      ],
      "source": [
        "import numpy as np\n",
        "\n",
        "\n",
        "result_list = [a * b for a, b in zip(l3, l4)]\n",
        "print(\"Result using list comprehension:\", result_list)\n",
        "# Measure time taken for element-wise multiplication\n",
        "%timeit l3 * l4"
      ]
    },
    {
      "cell_type": "markdown",
      "metadata": {
        "id": "CJrqooYWYuk_"
      },
      "source": [
        "Don't worry if still your one line of code is running. Its because your system is calculating total time taken to run your code.\n",
        "\n",
        "Did you notice buddy! time taken to multiply two lists takes more time than multiplyimg two numpy array.\n",
        "Hence proved that numpy arrays are faster than lists.\n",
        "\n",
        "**Fun Fact time!:**\n",
        "\n",
        "You know in many data science interviews it is asked that what is the difference between list and array.<br>\n"
      ]
    },
    {
      "cell_type": "code",
      "execution_count": 13,
      "metadata": {
        "id": "BnwTOtdDYulA",
        "colab": {
          "base_uri": "https://localhost:8080/"
        },
        "outputId": "4ad214a0-c87b-4b9b-f5ed-22bea2dbefd7"
      },
      "outputs": [
        {
          "output_type": "stream",
          "name": "stdout",
          "text": [
            "NumPy array: [ 1  2  3  4  5  6  7  8  9 10]\n"
          ]
        }
      ],
      "source": [
        "#Create a numpy array using arange with 1 and 11 as parameter in it\n",
        "\n",
        "import numpy as np\n",
        "\n",
        "# Create a NumPy array with arange\n",
        "array = np.arange(1, 11)\n",
        "print(\"NumPy array:\", array)\n"
      ]
    },
    {
      "cell_type": "markdown",
      "metadata": {
        "id": "QiuRfP4OYulA"
      },
      "source": [
        "This means using arrange we get evenly spaced values within a given interval. Interval? Yes you can mention interval as well as third parameter in it."
      ]
    },
    {
      "cell_type": "code",
      "execution_count": 14,
      "metadata": {
        "id": "TDdTXBZcYulA",
        "colab": {
          "base_uri": "https://localhost:8080/"
        },
        "outputId": "ccb4e259-ad72-4a19-dd0e-55178bf5e94f"
      },
      "outputs": [
        {
          "output_type": "stream",
          "name": "stdout",
          "text": [
            "NumPy array: [1 3 5 7 9]\n"
          ]
        }
      ],
      "source": [
        "# Create an array using arange passing 1,11 and 2 as parameter in iter\n",
        "# Create a NumPy array with arange\n",
        "array = np.arange(1, 11, 2)\n",
        "print(\"NumPy array:\", array)\n",
        "\n"
      ]
    },
    {
      "cell_type": "code",
      "execution_count": 15,
      "metadata": {
        "id": "IFYEePpeYulA",
        "colab": {
          "base_uri": "https://localhost:8080/"
        },
        "outputId": "2f419217-d965-41a0-c852-5a6e911e3b7d"
      },
      "outputs": [
        {
          "output_type": "stream",
          "name": "stdout",
          "text": [
            "NumPy array using eye:\n",
            " [[1. 0. 0.]\n",
            " [0. 1. 0.]\n",
            " [0. 0. 1.]]\n"
          ]
        }
      ],
      "source": [
        "# create numpy array using eye function with 3 as passed parameter\n",
        "\n",
        "# Create a NumPy array using the eye function\n",
        "array = np.eye(3)\n",
        "print(\"NumPy array using eye:\\n\", array)\n"
      ]
    },
    {
      "cell_type": "code",
      "execution_count": 16,
      "metadata": {
        "id": "rXpUyqTYYulD",
        "colab": {
          "base_uri": "https://localhost:8080/"
        },
        "outputId": "dda71dee-be03-4f04-98e8-14e289201b84"
      },
      "outputs": [
        {
          "output_type": "stream",
          "name": "stdout",
          "text": [
            "NumPy array x: [ 1  2  3  4  5  6  7  8  9 10 11 12 13 14 15 16]\n"
          ]
        }
      ],
      "source": [
        "# Using arange() to generate numpy array x with numbers between 1 to 16\n",
        "# x=\n",
        "# Create a NumPy array x with numbers from 1 to 16\n",
        "x = np.arange(1, 17)\n",
        "print(\"NumPy array x:\", x)\n"
      ]
    },
    {
      "cell_type": "code",
      "execution_count": 17,
      "metadata": {
        "id": "JkQG8RyFYulE",
        "colab": {
          "base_uri": "https://localhost:8080/"
        },
        "outputId": "2fb70c93-20a4-4c34-ea58-bd6d4253ab26"
      },
      "outputs": [
        {
          "output_type": "stream",
          "name": "stdout",
          "text": [
            "Reshaped array:\n",
            " [[ 1  2  3  4  5  6  7  8]\n",
            " [ 9 10 11 12 13 14 15 16]]\n"
          ]
        }
      ],
      "source": [
        "# Reshape x with 2 rows and 8 columns\n",
        "\n",
        "# Create the original array\n",
        "x = np.arange(1, 17)\n",
        "\n",
        "# Reshape x into 2 rows and 8 columns\n",
        "reshaped_x = x.reshape(2, 8)\n",
        "print(\"Reshaped array:\\n\", reshaped_x)\n"
      ]
    },
    {
      "cell_type": "markdown",
      "metadata": {
        "id": "Eu-DgBCRYulE"
      },
      "source": [
        "As you can see above that our x changed into 2D matrix\n",
        "\n",
        "2. Reshaping 1-D to 3-D array\n"
      ]
    },
    {
      "cell_type": "code",
      "execution_count": 18,
      "metadata": {
        "id": "Ue760dxYYulE",
        "colab": {
          "base_uri": "https://localhost:8080/"
        },
        "outputId": "c550c065-8d2d-42af-ffcb-592041bdf983"
      },
      "outputs": [
        {
          "output_type": "stream",
          "name": "stdout",
          "text": [
            "Reshaped array:\n",
            " [[[ 1  2]\n",
            "  [ 3  4]\n",
            "  [ 5  6]\n",
            "  [ 7  8]]\n",
            "\n",
            " [[ 9 10]\n",
            "  [11 12]\n",
            "  [13 14]\n",
            "  [15 16]]]\n"
          ]
        }
      ],
      "source": [
        "# reshaoe x with dimension that will have 2 arrays that contains 4 arrays, each with 2 elements:\n",
        "\n",
        "\n",
        "# Create the original array\n",
        "x = np.arange(1, 17)\n",
        "\n",
        "# Reshape x into a shape (2, 4, 2)\n",
        "reshaped_x = x.reshape(2, 4, 2)\n",
        "print(\"Reshaped array:\\n\", reshaped_x)\n"
      ]
    },
    {
      "cell_type": "code",
      "execution_count": 19,
      "metadata": {
        "id": "xlfI-eC2YulE",
        "colab": {
          "base_uri": "https://localhost:8080/"
        },
        "outputId": "0030a6ef-4f23-4030-d376-d398b7c8f662"
      },
      "outputs": [
        {
          "output_type": "stream",
          "name": "stdout",
          "text": [
            "Reshaped array:\n",
            " [[ 1  2  3  4]\n",
            " [ 5  6  7  8]\n",
            " [ 9 10 11 12]\n",
            " [13 14 15 16]]\n"
          ]
        }
      ],
      "source": [
        "# Use unknown dimention to reshape x into 2-D numpy array with shape 4*4\n",
        "# Create the original array\n",
        "x = np.arange(1, 17)\n",
        "\n",
        "# Reshape x into a 4x4 matrix\n",
        "reshaped_x = x.reshape(4, 4)\n",
        "print(\"Reshaped array:\\n\", reshaped_x)\n",
        "\n"
      ]
    },
    {
      "cell_type": "code",
      "execution_count": 20,
      "metadata": {
        "id": "NDRDRGkUYulE",
        "colab": {
          "base_uri": "https://localhost:8080/"
        },
        "outputId": "b6552bcd-7c22-4198-c9ee-2eee6083746f"
      },
      "outputs": [
        {
          "output_type": "stream",
          "name": "stdout",
          "text": [
            "Reshaped array:\n",
            " [[[ 1  2]\n",
            "  [ 3  4]\n",
            "  [ 5  6]\n",
            "  [ 7  8]]\n",
            "\n",
            " [[ 9 10]\n",
            "  [11 12]\n",
            "  [13 14]\n",
            "  [15 16]]]\n"
          ]
        }
      ],
      "source": [
        "# Use unknown dimention to  reshape x into 3-D numpy array with 2 arrays that contains 4 arrays\n",
        "# y=\n",
        "\n",
        "# Create the original array\n",
        "y = np.arange(1, 17)\n",
        "\n",
        "# Reshape x into a 3D array with shape (2, 4, 2)\n",
        "reshaped_x = x.reshape(2, 4, 2)\n",
        "print(\"Reshaped array:\\n\", reshaped_x)\n",
        "\n",
        "# print y\n",
        "\n"
      ]
    },
    {
      "cell_type": "code",
      "execution_count": 21,
      "metadata": {
        "id": "iHuEimtTYulF",
        "colab": {
          "base_uri": "https://localhost:8080/"
        },
        "outputId": "2acc2ba4-7161-4486-97ce-623028897892"
      },
      "outputs": [
        {
          "output_type": "stream",
          "name": "stdout",
          "text": [
            "Flattened array: [ 1  2  3  4  5  6  7  8  9 10 11 12 13 14 15 16]\n"
          ]
        }
      ],
      "source": [
        "# Flattening y\n",
        "\n",
        "# Create a 3D array\n",
        "y = np.arange(1, 17).reshape(2, 4, 2)\n",
        "\n",
        "# Flatten the 3D array\n",
        "flattened_y = y.flatten()  # or y.ravel()\n",
        "print(\"Flattened array:\", flattened_y)\n"
      ]
    },
    {
      "cell_type": "code",
      "execution_count": 22,
      "metadata": {
        "id": "liRM5zN0YulF",
        "colab": {
          "base_uri": "https://localhost:8080/"
        },
        "outputId": "ca11d5fe-9ccc-4263-bfd3-17bb4fdef045"
      },
      "outputs": [
        {
          "output_type": "stream",
          "name": "stdout",
          "text": [
            "Array a: [ 2  4  6  8 10 12 14 16]\n"
          ]
        }
      ],
      "source": [
        "# Create an array a with all even numbers between 1 to 17\n",
        "# a =\n",
        "\n",
        "# Create an array with even numbers between 1 and 17\n",
        "a = np.arange(2, 18, 2)\n",
        "print(\"Array a:\", a)\n",
        "\n",
        "# print a\n"
      ]
    },
    {
      "cell_type": "code",
      "execution_count": 23,
      "metadata": {
        "id": "GysmjjOQYulF",
        "colab": {
          "base_uri": "https://localhost:8080/"
        },
        "outputId": "05ac3bf2-670b-4350-e4c5-91863099d967"
      },
      "outputs": [
        {
          "output_type": "stream",
          "name": "stdout",
          "text": [
            "Third element: 6\n"
          ]
        }
      ],
      "source": [
        "# Get third element in array a\n",
        "# Create the array\n",
        "a = np.arange(2, 18, 2)\n",
        "\n",
        "# Get the third element\n",
        "third_element = a[2]  # Index starts from 0\n",
        "print(\"Third element:\", third_element)"
      ]
    },
    {
      "cell_type": "code",
      "execution_count": 24,
      "metadata": {
        "id": "QJDw7E2VYulF",
        "colab": {
          "base_uri": "https://localhost:8080/"
        },
        "outputId": "cdbfc51e-6957-49a2-f482-504cd7a24764"
      },
      "outputs": [
        {
          "output_type": "stream",
          "name": "stdout",
          "text": [
            "3rd element: 6\n",
            "5th element: 10\n",
            "7th element: 14\n"
          ]
        }
      ],
      "source": [
        "#Print 3rd, 5th, and 7th element in array a\n",
        "# Create the array\n",
        "a = np.arange(2, 18, 2)\n",
        "\n",
        "# Get the 3rd, 5th, and 7th elements\n",
        "third_element = a[2]  # Index starts from 0\n",
        "fifth_element = a[4]\n",
        "seventh_element = a[6]\n",
        "\n",
        "print(\"3rd element:\", third_element)\n",
        "print(\"5th element:\", fifth_element)\n",
        "print(\"7th element:\", seventh_element)\n",
        "\n"
      ]
    },
    {
      "cell_type": "markdown",
      "metadata": {
        "id": "6FauyJCQYulF"
      },
      "source": [
        "Lets check the same for 2 D array"
      ]
    },
    {
      "cell_type": "code",
      "execution_count": 26,
      "metadata": {
        "id": "yomRzY6aYulF",
        "colab": {
          "base_uri": "https://localhost:8080/"
        },
        "outputId": "55582726-45cf-4743-b981-6471f3c3d41e"
      },
      "outputs": [
        {
          "output_type": "stream",
          "name": "stdout",
          "text": [
            "2D array a:\n",
            " [[1 2 3]\n",
            " [4 5 6]\n",
            " [7 8 9]]\n"
          ]
        }
      ],
      "source": [
        "# Define an array 2-D a with [[1,2,3],[4,5,6],[7,8,9]] as its elements.\n",
        "# a =\n",
        "\n",
        "a = np.array([[1, 2, 3], [4, 5, 6], [7, 8, 9]])\n",
        "print(\"2D array a:\\n\", a)"
      ]
    },
    {
      "cell_type": "code",
      "execution_count": 27,
      "metadata": {
        "id": "VTGpLidrYulF",
        "colab": {
          "base_uri": "https://localhost:8080/"
        },
        "outputId": "1f447039-ebcc-40a3-8f76-9e96faee6e31"
      },
      "outputs": [
        {
          "output_type": "stream",
          "name": "stdout",
          "text": [
            "3rd element from the 3rd row: 9\n"
          ]
        }
      ],
      "source": [
        "# print the 3rd element from the 3rd row of a\n",
        "# Define the 2D array\n",
        "a = np.array([[1, 2, 3], [4, 5, 6], [7, 8, 9]])\n",
        "\n",
        "# Get the 3rd element from the 3rd row (index 2)\n",
        "third_element_third_row = a[2, 2]\n",
        "print(\"3rd element from the 3rd row:\", third_element_third_row)\n"
      ]
    },
    {
      "cell_type": "markdown",
      "metadata": {
        "id": "-fPw_4ZBYulF"
      },
      "source": [
        "Well done!\n",
        "\n",
        "Now lets check indexing for 3 D array"
      ]
    },
    {
      "cell_type": "code",
      "execution_count": 28,
      "metadata": {
        "id": "VISPaw3PYulG",
        "colab": {
          "base_uri": "https://localhost:8080/"
        },
        "outputId": "6e677f14-fe34-443d-fbd2-4d4e9db9be85"
      },
      "outputs": [
        {
          "output_type": "stream",
          "name": "stdout",
          "text": [
            "3D array b:\n",
            " [[[ 1  2  3]\n",
            "  [ 4  5  6]]\n",
            "\n",
            " [[ 7  8  9]\n",
            "  [10 11 12]]]\n"
          ]
        }
      ],
      "source": [
        "# Define an array b again with [[[1, 2, 3], [4, 5, 6]], [[7, 8, 9], [10, 11, 12]]] as its elements.\n",
        "# b =\n",
        "\n",
        "b = np.array([[[1, 2, 3], [4, 5, 6]], [[7, 8, 9], [10, 11, 12]]])\n",
        "print(\"3D array b:\\n\", b)\n"
      ]
    },
    {
      "cell_type": "code",
      "execution_count": 29,
      "metadata": {
        "id": "UrFj656mYulG",
        "colab": {
          "base_uri": "https://localhost:8080/"
        },
        "outputId": "3205c314-4fca-4b9f-ff60-f9e3d1d44dd3"
      },
      "outputs": [
        {
          "output_type": "stream",
          "name": "stdout",
          "text": [
            "3rd element from the 2nd list (1st list in nested structure): 9\n"
          ]
        }
      ],
      "source": [
        "# Print 3rd element from 2nd list which is 1st list in nested list passed. Confusing right? 'a' have nested array.Understand the braket differences.\n",
        "# Define the 3D array\n",
        "b = np.array([[[1, 2, 3], [4, 5, 6]], [[7, 8, 9], [10, 11, 12]]])\n",
        "\n",
        "# Get the 3rd element from the 2nd list (which is the 1st list in the nested structure)\n",
        "third_element_second_list = b[1, 0, 2]\n",
        "print(\"3rd element from the 2nd list (1st list in nested structure):\", third_element_second_list)\n",
        "\n"
      ]
    },
    {
      "cell_type": "code",
      "execution_count": 30,
      "metadata": {
        "id": "9ZadW42fYulG",
        "colab": {
          "base_uri": "https://localhost:8080/"
        },
        "outputId": "d4f4d0f4-1bdc-4aee-ddfe-09a53dfe6802"
      },
      "outputs": [
        {
          "output_type": "stream",
          "name": "stdout",
          "text": [
            "1D array: [10 20 30 40 50]\n"
          ]
        }
      ],
      "source": [
        "# Create 1D array\n",
        "\n",
        "# arr=\n",
        "arr = np.array([10, 20, 30, 40, 50])\n",
        "print(\"1D array:\", arr)\n",
        "\n"
      ]
    },
    {
      "cell_type": "code",
      "execution_count": 31,
      "metadata": {
        "id": "fm2dtL6EYulG",
        "colab": {
          "base_uri": "https://localhost:8080/"
        },
        "outputId": "78aeed78-2897-4fdb-dde7-75ab46eda98b"
      },
      "outputs": [
        {
          "output_type": "stream",
          "name": "stdout",
          "text": [
            "Sliced array (1st to 5th element): [10 20 30 40 50]\n"
          ]
        }
      ],
      "source": [
        "# Slice elements from 1st to 5th element from the following array:\n",
        "arr = np.array([10, 20, 30, 40, 50, 60, 70, 80, 90])\n",
        "\n",
        "# Slice elements from 1st to 5th element\n",
        "sliced_arr = arr[0:5]\n",
        "print(\"Sliced array (1st to 5th element):\", sliced_arr)\n",
        "\n",
        "\n"
      ]
    },
    {
      "cell_type": "markdown",
      "metadata": {
        "id": "ghqluYgMYulG"
      },
      "source": [
        "Note: The result includes the start index, but excludes the end index.\n",
        "\n"
      ]
    },
    {
      "cell_type": "code",
      "execution_count": 32,
      "metadata": {
        "id": "g4uVBo1oYulH",
        "colab": {
          "base_uri": "https://localhost:8080/"
        },
        "outputId": "0a9d8eba-3e7b-40f0-8b72-34e0ce92ce85"
      },
      "outputs": [
        {
          "output_type": "stream",
          "name": "stdout",
          "text": [
            "Sliced array (from index 5 to end): [60 70 80 90]\n"
          ]
        }
      ],
      "source": [
        "# Slice elements from index 5 to the end of the array:\n",
        "\n",
        "arr = np.array([10, 20, 30, 40, 50, 60, 70, 80, 90])\n",
        "\n",
        "# Slice elements from index 5 to the end\n",
        "sliced_arr = arr[5:]\n",
        "print(\"Sliced array (from index 5 to end):\", sliced_arr)\n"
      ]
    },
    {
      "cell_type": "code",
      "execution_count": 33,
      "metadata": {
        "id": "1t4V3OSaYulH",
        "colab": {
          "base_uri": "https://localhost:8080/"
        },
        "outputId": "6cb6c89b-7418-48cc-ae05-3818e4250aec"
      },
      "outputs": [
        {
          "output_type": "stream",
          "name": "stdout",
          "text": [
            "Sliced array (beginning to index 5): [10 20 30 40 50]\n"
          ]
        }
      ],
      "source": [
        "# Slice elements from the beginning to index 5 (not included):\n",
        "\n",
        "arr = np.array([10, 20, 30, 40, 50, 60, 70, 80, 90])\n",
        "\n",
        "# Slice elements from the beginning to index 5 (not included)\n",
        "sliced_arr = arr[:5]\n",
        "print(\"Sliced array (beginning to index 5):\", sliced_arr)\n",
        "\n",
        "\n"
      ]
    },
    {
      "cell_type": "markdown",
      "metadata": {
        "id": "_sk9yNamYulH"
      },
      "source": [
        "**STEP**\n",
        "\n",
        "Use the step value to determine the step of the slicing:"
      ]
    },
    {
      "cell_type": "code",
      "execution_count": 34,
      "metadata": {
        "id": "1OXANncfYulH",
        "colab": {
          "base_uri": "https://localhost:8080/"
        },
        "outputId": "d1b770f2-8170-4416-9b8f-6acedae43214"
      },
      "outputs": [
        {
          "output_type": "stream",
          "name": "stdout",
          "text": [
            "Sliced array (every other element from index 1 to 7): [20 40 60 80]\n"
          ]
        }
      ],
      "source": [
        "# Print every other element from index 1 to index 7:\n",
        "arr = np.array([10, 20, 30, 40, 50, 60, 70, 80, 90])\n",
        "\n",
        "# Slice every other element from index 1 to 7\n",
        "sliced_arr = arr[1:8:2]\n",
        "print(\"Sliced array (every other element from index 1 to 7):\", sliced_arr)\n",
        "\n"
      ]
    },
    {
      "cell_type": "markdown",
      "metadata": {
        "id": "mpk1-Nd2YulH"
      },
      "source": [
        "Did you see? using step you were able to get alternate elements within specified index numbers."
      ]
    },
    {
      "cell_type": "code",
      "execution_count": 35,
      "metadata": {
        "id": "HxPLcXudYulH",
        "colab": {
          "base_uri": "https://localhost:8080/"
        },
        "outputId": "21751d9c-2d8e-4bb1-d865-5b28e8f563b0"
      },
      "outputs": [
        {
          "output_type": "stream",
          "name": "stdout",
          "text": [
            "Every other element: [10 30 50 70 90]\n"
          ]
        }
      ],
      "source": [
        "# Return every other element from the entire array arr:\n",
        "# Create a 1D array\n",
        "arr = np.array([10, 20, 30, 40, 50, 60, 70, 80, 90])\n",
        "\n",
        "# Slice every other element\n",
        "sliced_arr = arr[::2]\n",
        "print(\"Every other element:\", sliced_arr)\n",
        "\n"
      ]
    },
    {
      "cell_type": "markdown",
      "metadata": {
        "id": "d3m3TAVKYulH"
      },
      "source": [
        "well done!\n",
        "\n",
        "Lets do some slicing on 2-D array also. We already have 'a' as our 2-D array. We will use it here.\n",
        "\n",
        "**Array slicing in 2-D array.**"
      ]
    },
    {
      "cell_type": "code",
      "execution_count": 36,
      "metadata": {
        "id": "rPVvZ707YulI",
        "colab": {
          "base_uri": "https://localhost:8080/"
        },
        "outputId": "86395a36-abe8-4dcc-daad-6329482684aa"
      },
      "outputs": [
        {
          "output_type": "stream",
          "name": "stdout",
          "text": [
            "Array a:\n",
            " [[1 2 3]\n",
            " [4 5 6]\n",
            " [7 8 9]]\n"
          ]
        }
      ],
      "source": [
        "# Print array a\n",
        "a = np.array([[1, 2, 3], [4, 5, 6], [7, 8, 9]])\n",
        "\n",
        "# Print the array\n",
        "print(\"Array a:\\n\", a)\n",
        "\n",
        "\n"
      ]
    },
    {
      "cell_type": "code",
      "execution_count": 37,
      "metadata": {
        "id": "uGHClMHiYulI",
        "colab": {
          "base_uri": "https://localhost:8080/"
        },
        "outputId": "f37780fa-8d42-4c3d-b7cf-dec098ad417c"
      },
      "outputs": [
        {
          "output_type": "stream",
          "name": "stdout",
          "text": [
            "Sliced elements (from index 1 to 5): [8 9]\n"
          ]
        }
      ],
      "source": [
        "# From the third element, slice elements from index 1 to index 5 (not included) from array 'a'\n",
        "\n",
        "# Create a 2D array\n",
        "a = np.array([[1, 2, 3], [4, 5, 6], [7, 8, 9]])\n",
        "\n",
        "# From the third element (2nd row), slice elements from index 1 to 5 (not included)\n",
        "sliced_elements = a[2, 1:5]\n",
        "print(\"Sliced elements (from index 1 to 5):\", sliced_elements)\n"
      ]
    },
    {
      "cell_type": "code",
      "execution_count": 38,
      "metadata": {
        "id": "mApmbts7YulI",
        "colab": {
          "base_uri": "https://localhost:8080/"
        },
        "outputId": "176e6426-ed0f-4805-f6d4-4a788b9acf17"
      },
      "outputs": [
        {
          "output_type": "stream",
          "name": "stdout",
          "text": [
            "Index 2 (third element) from all rows: [3 6 9]\n"
          ]
        }
      ],
      "source": [
        "# In array 'a' print index 2 from all the elements :\n",
        "\n",
        "a = np.array([[1, 2, 3], [4, 5, 6], [7, 8, 9]])\n",
        "\n",
        "# Print index 2 (third element) from all rows\n",
        "index_2_elements = a[:, 2]\n",
        "print(\"Index 2 (third element) from all rows:\", index_2_elements)\n",
        "\n"
      ]
    },
    {
      "cell_type": "code",
      "execution_count": 39,
      "metadata": {
        "id": "XupmT4oLYulI",
        "colab": {
          "base_uri": "https://localhost:8080/"
        },
        "outputId": "e6c8fcb9-43b9-4032-fb7a-75ba5b61ab68"
      },
      "outputs": [
        {
          "output_type": "stream",
          "name": "stdout",
          "text": [
            "Sliced array (from index 1 to end):\n",
            " [[2 3]\n",
            " [5 6]\n",
            " [8 9]]\n"
          ]
        }
      ],
      "source": [
        "# From all the elements in 'a', slice index 1 till end, this will return a 2-D array:\n",
        "a = np.array([[1, 2, 3], [4, 5, 6], [7, 8, 9]])\n",
        "\n",
        "# Slice index 1 (second column) till the end\n",
        "sliced_array = a[:, 1:]\n",
        "print(\"Sliced array (from index 1 to end):\\n\", sliced_array)\n",
        "\n"
      ]
    },
    {
      "cell_type": "markdown",
      "metadata": {
        "id": "3-YDc-LnYulI"
      },
      "source": [
        "Hurray! You have learned Slicing in Numpy array. Now you know to access any numpy array."
      ]
    },
    {
      "cell_type": "markdown",
      "metadata": {
        "id": "kCiQoJ7DYulI"
      },
      "source": [
        "## Numpy copy vs view"
      ]
    },
    {
      "cell_type": "code",
      "execution_count": 42,
      "metadata": {
        "id": "qMAPlnpnYulI",
        "colab": {
          "base_uri": "https://localhost:8080/"
        },
        "outputId": "261e968c-d848-40cf-8817-17e59e723453"
      },
      "outputs": [
        {
          "output_type": "stream",
          "name": "stdout",
          "text": [
            "x1: [1 2 3 4 5]\n"
          ]
        }
      ],
      "source": [
        "import numpy as np\n",
        "\n",
        "# Create a 1D array\n",
        "x1 = np.array([1, 2, 3, 4, 5])\n",
        "print(\"x1:\", x1)"
      ]
    },
    {
      "cell_type": "code",
      "execution_count": null,
      "metadata": {
        "id": "Fjjpvmw4YulI"
      },
      "outputs": [],
      "source": [
        "# assign x2 = x1\n",
        "\n"
      ]
    },
    {
      "cell_type": "code",
      "execution_count": 43,
      "metadata": {
        "id": "CZ8h9KxSYulI",
        "colab": {
          "base_uri": "https://localhost:8080/"
        },
        "outputId": "c5143001-99e5-4cb2-d7bb-65d8ad14034a"
      },
      "outputs": [
        {
          "output_type": "stream",
          "name": "stdout",
          "text": [
            "x1: [1 2 3 4 5]\n",
            "x2: [1 2 3 4 5]\n"
          ]
        }
      ],
      "source": [
        "#print x1 and x2\n",
        "# Create a 1D array x1\n",
        "x1 = np.array([1, 2, 3, 4, 5])\n",
        "\n",
        "# Assign x2 as a copy of x1\n",
        "x2 = x1\n",
        "\n",
        "print(\"x1:\", x1)\n",
        "print(\"x2:\", x2)\n",
        "\n"
      ]
    },
    {
      "cell_type": "markdown",
      "metadata": {
        "id": "CAOn1lSVYulI"
      },
      "source": [
        "Ok now you have seen that both of them are same"
      ]
    },
    {
      "cell_type": "code",
      "execution_count": 44,
      "metadata": {
        "id": "H12TCKrSYulJ",
        "colab": {
          "base_uri": "https://localhost:8080/"
        },
        "outputId": "6cb787e8-e007-4de5-8af6-5d0478029617"
      },
      "outputs": [
        {
          "output_type": "stream",
          "name": "stdout",
          "text": [
            "x1: [10  2  3  4  5]\n",
            "x2: [10  2  3  4  5]\n"
          ]
        }
      ],
      "source": [
        "# change 1st element of x2 as 10\n",
        "\n",
        "# Create a 1D array x1\n",
        "x1 = np.array([1, 2, 3, 4, 5])\n",
        "\n",
        "# Assign x2 as a copy of x1\n",
        "x2 = x1\n",
        "\n",
        "# Change the first element of x2\n",
        "x2[0] = 10\n",
        "\n",
        "print(\"x1:\", x1)\n",
        "print(\"x2:\", x2)\n",
        "\n"
      ]
    },
    {
      "cell_type": "code",
      "execution_count": 45,
      "metadata": {
        "id": "jO5qSqZVYulJ",
        "colab": {
          "base_uri": "https://localhost:8080/"
        },
        "outputId": "5c675e47-ded1-4cda-8238-0b499e9486b0"
      },
      "outputs": [
        {
          "output_type": "stream",
          "name": "stdout",
          "text": [
            "[10  2  3  4  5]\n",
            "[10  2  3  4  5]\n"
          ]
        }
      ],
      "source": [
        "#Again print x1 and x2\n",
        "print(x1)\n",
        "print(x2)\n",
        "\n"
      ]
    },
    {
      "cell_type": "code",
      "execution_count": 46,
      "metadata": {
        "id": "wruaMhObYulJ",
        "colab": {
          "base_uri": "https://localhost:8080/"
        },
        "outputId": "60c1ed37-a1f2-484f-e708-d24dd17c642d"
      },
      "outputs": [
        {
          "output_type": "stream",
          "name": "stdout",
          "text": [
            "x1 base: None\n",
            "x2 base: None\n"
          ]
        }
      ],
      "source": [
        "# Check memory share between x1 and x2\n",
        "\n",
        "# Create a 1D array x1\n",
        "x1 = np.array([1, 2, 3, 4, 5])\n",
        "\n",
        "# Assign x2 as a copy of x1\n",
        "x2 = x1\n",
        "\n",
        "# Check if x2 has the same base (memory) as x1\n",
        "print(\"x1 base:\", x1.base)\n",
        "print(\"x2 base:\", x2.base)"
      ]
    },
    {
      "cell_type": "markdown",
      "metadata": {
        "id": "8FfiAWw_YulJ"
      },
      "source": [
        "Hey It's True they both share memory\n",
        "\n",
        "Shall we try **view()** function also likwise."
      ]
    },
    {
      "cell_type": "code",
      "execution_count": 47,
      "metadata": {
        "id": "ylweEJUtYulJ",
        "colab": {
          "base_uri": "https://localhost:8080/"
        },
        "outputId": "7ac32420-1dfe-43f7-c09c-19d3a3b84402"
      },
      "outputs": [
        {
          "output_type": "stream",
          "name": "stdout",
          "text": [
            "x1 base: None\n",
            "x3 base: [1 2 3 4 5]\n"
          ]
        }
      ],
      "source": [
        "# Create a view of x1 and store it in x3.\n",
        "# x3 =\n",
        "x1 = np.array([1, 2, 3, 4, 5])\n",
        "\n",
        "# Create a view of x1 and store it in x3\n",
        "x3 = x1.view()\n",
        "\n",
        "# Check if x3 has the same base (memory) as x1\n",
        "print(\"x1 base:\", x1.base)\n",
        "print(\"x3 base:\", x3.base)"
      ]
    },
    {
      "cell_type": "code",
      "execution_count": 48,
      "metadata": {
        "id": "La-iF23VYulJ",
        "colab": {
          "base_uri": "https://localhost:8080/"
        },
        "outputId": "28dbfba5-34a1-4338-c39d-8582ac4706bc"
      },
      "outputs": [
        {
          "output_type": "stream",
          "name": "stdout",
          "text": [
            "x1 base: None\n",
            "x3 base: [1 2 3 4 5]\n"
          ]
        }
      ],
      "source": [
        "# Again check memory share between x1 and x3\n",
        "\n",
        "x1 = np.array([1, 2, 3, 4, 5])\n",
        "\n",
        "# Create a view of x1 and store it in x3\n",
        "x3 = x1.view()\n",
        "\n",
        "# Check if x3 has the same base (memory) as x1\n",
        "print(\"x1 base:\", x1.base)\n",
        "print(\"x3 base:\", x3.base)\n"
      ]
    },
    {
      "cell_type": "markdown",
      "metadata": {
        "id": "vkE_1h-5YulJ"
      },
      "source": [
        "Woh! simple assignment is similar to view. That means\n",
        "The view does not own the data and any changes made to the view will affect the original array, and any changes made to the original array will affect the view.\n",
        "\n",
        "Don't agree? ok lets change x3 and see if original array i.e. x1 also changes"
      ]
    },
    {
      "cell_type": "code",
      "execution_count": 49,
      "metadata": {
        "id": "34UnXXvwYulJ",
        "colab": {
          "base_uri": "https://localhost:8080/"
        },
        "outputId": "ba8a0367-83f4-4a85-af32-f875741000a1"
      },
      "outputs": [
        {
          "output_type": "stream",
          "name": "stdout",
          "text": [
            "x1: [100   2   3   4   5]\n",
            "x3: [100   2   3   4   5]\n"
          ]
        }
      ],
      "source": [
        "#Change 1st element of x3=100\n",
        "x1 = np.array([1, 2, 3, 4, 5])\n",
        "\n",
        "# Create a view of x1 and store it in x3\n",
        "x3 = x1.view()\n",
        "\n",
        "# Change the first element of x3\n",
        "x3[0] = 100\n",
        "\n",
        "print(\"x1:\", x1)\n",
        "print(\"x3:\", x3)\n"
      ]
    },
    {
      "cell_type": "code",
      "execution_count": 50,
      "metadata": {
        "id": "p64U7WsGYulJ",
        "colab": {
          "base_uri": "https://localhost:8080/"
        },
        "outputId": "f723d4ff-c557-4da1-d507-cf836ef61ed0"
      },
      "outputs": [
        {
          "output_type": "stream",
          "name": "stdout",
          "text": [
            "x1: [100   2   3   4   5]\n",
            "x3: [100   2   3   4   5]\n"
          ]
        }
      ],
      "source": [
        "#print x1 and x3 to check if changes reflected in both\n",
        "\n",
        "x1 = np.array([1, 2, 3, 4, 5])\n",
        "\n",
        "# Create a view of x1 and store it in x3\n",
        "x3 = x1.view()\n",
        "\n",
        "# Change the first element of x3\n",
        "x3[0] = 100\n",
        "\n",
        "# Print x1 and x3\n",
        "print(\"x1:\", x1)\n",
        "print(\"x3:\", x3)\n"
      ]
    },
    {
      "cell_type": "markdown",
      "metadata": {
        "id": "aPgZUErOYulK"
      },
      "source": [
        "Now its proved.\n",
        "\n",
        "Lets see how **Copy()** function works"
      ]
    },
    {
      "cell_type": "code",
      "execution_count": 51,
      "metadata": {
        "id": "AB_dXmMrYulK",
        "colab": {
          "base_uri": "https://localhost:8080/"
        },
        "outputId": "3b3beae8-3080-4d12-d8b7-3230b1da9fb6"
      },
      "outputs": [
        {
          "output_type": "stream",
          "name": "stdout",
          "text": [
            "x1: [1 2 3 4 5]\n",
            "x4: [100   2   3   4   5]\n"
          ]
        }
      ],
      "source": [
        "# Now create an array x4 which is copy of x1\n",
        "\n",
        "# x4=\n",
        "# Create a 1D array x1\n",
        "x1 = np.array([1, 2, 3, 4, 5])\n",
        "\n",
        "# Create a copy of x1 and store it in x4\n",
        "x4 = x1.copy()\n",
        "\n",
        "# Modify the first element of x4\n",
        "x4[0] = 100\n",
        "\n",
        "# Print x1 and x4\n",
        "print(\"x1:\", x1)\n",
        "print(\"x4:\", x4)\n"
      ]
    },
    {
      "cell_type": "code",
      "execution_count": 52,
      "metadata": {
        "id": "8_Ub7cuZYulK",
        "colab": {
          "base_uri": "https://localhost:8080/"
        },
        "outputId": "c9f33292-5a4f-41b7-db05-0254305f5859"
      },
      "outputs": [
        {
          "output_type": "stream",
          "name": "stdout",
          "text": [
            "x1: [1 2 3 4 5]\n",
            "x4: [  1   2   3   4 900]\n"
          ]
        }
      ],
      "source": [
        "# Change the last element of x4 as 900\n",
        "x1 = np.array([1, 2, 3, 4, 5])\n",
        "\n",
        "# Create a copy of x1 and store it in x4\n",
        "x4 = x1.copy()\n",
        "\n",
        "# Change the last element of x4\n",
        "x4[-1] = 900\n",
        "\n",
        "# Print x1 and x4\n",
        "print(\"x1:\", x1)\n",
        "print(\"x4:\", x4)\n",
        "\n",
        "\n"
      ]
    },
    {
      "cell_type": "code",
      "execution_count": 53,
      "metadata": {
        "id": "xEUDBraHYulK",
        "colab": {
          "base_uri": "https://localhost:8080/"
        },
        "outputId": "2e26c0ba-765b-4707-ee70-975181d2f333"
      },
      "outputs": [
        {
          "output_type": "stream",
          "name": "stdout",
          "text": [
            "x1: [1 2 3 4 5]\n",
            "x4: [  1   2   3   4 900]\n"
          ]
        }
      ],
      "source": [
        "# print both x1 and x4 to check if changes reflected in both\n",
        "x1 = np.array([1, 2, 3, 4, 5])\n",
        "\n",
        "# Create a copy of x1 and store it in x4\n",
        "x4 = x1.copy()\n",
        "\n",
        "# Change the last element of x4\n",
        "x4[-1] = 900\n",
        "\n",
        "# Print x1 and x4\n",
        "print(\"x1:\", x1)\n",
        "print(\"x4:\", x4)\n",
        "\n",
        "\n"
      ]
    },
    {
      "cell_type": "markdown",
      "metadata": {
        "id": "uMfFQMlNYulK"
      },
      "source": [
        "Hey! such an intresting output. You noticed buddy! your original array didn't get changed on change of its copy ie. x4.\n",
        "\n",
        "Still not convinced? Ok lets see if they both share memory or not"
      ]
    },
    {
      "cell_type": "code",
      "execution_count": 54,
      "metadata": {
        "id": "VZbJx19hYulK",
        "colab": {
          "base_uri": "https://localhost:8080/"
        },
        "outputId": "943b53aa-a598-456b-8c66-0fa2f2fbfc88"
      },
      "outputs": [
        {
          "output_type": "stream",
          "name": "stdout",
          "text": [
            "x1 base: None\n",
            "x4 base: None\n"
          ]
        }
      ],
      "source": [
        "#Check memory share between x1 and x4\n",
        "\n",
        "x1 = np.array([1, 2, 3, 4, 5])\n",
        "\n",
        "# Create a copy of x1 and store it in x4\n",
        "x4 = x1.copy()\n",
        "\n",
        "# Check if x4 has the same base (memory) as x1\n",
        "print(\"x1 base:\", x1.base)\n",
        "print(\"x4 base:\", x4.base)\n",
        "\n"
      ]
    },
    {
      "cell_type": "markdown",
      "metadata": {
        "id": "1vgtMyk8YulM"
      },
      "source": [
        "**hstack vs vstack function**\n",
        "\n",
        "\n",
        "Stacking is same as concatenation, the only difference is that stacking is done along a new axis.\n",
        "\n",
        "NumPy provides a helper function:\n",
        "\n",
        "1. hstack() to stack along rows.\n",
        "2. vstack()  to stack along columns"
      ]
    },
    {
      "cell_type": "code",
      "execution_count": 55,
      "metadata": {
        "id": "8iXSmEsmYulM",
        "colab": {
          "base_uri": "https://localhost:8080/"
        },
        "outputId": "21a013aa-0434-495c-9b8c-fc39e4a94c90"
      },
      "outputs": [
        {
          "output_type": "stream",
          "name": "stdout",
          "text": [
            "Horizontal Stack:\n",
            " [[1 1]\n",
            " [2 2]\n",
            " [3 3]\n",
            " [4 4]\n",
            " [5 5]]\n",
            "Vertical Stack:\n",
            " [[1 2 3 4 5]\n",
            " [1 2 3 4 5]]\n"
          ]
        }
      ],
      "source": [
        "# stack x1 and x4 along columns.\n",
        "# Create a 1D array x1\n",
        "x1 = np.array([1, 2, 3, 4, 5])\n",
        "\n",
        "# Create a copy of x1 and store it in x4\n",
        "x4 = x1.copy()\n",
        "\n",
        "# Horizontal stacking (along columns)\n",
        "horizontal_stack = np.hstack((x1.reshape(-1, 1), x4.reshape(-1, 1)))\n",
        "print(\"Horizontal Stack:\\n\", horizontal_stack)\n",
        "\n",
        "# Vertical stacking (along rows)\n",
        "vertical_stack = np.vstack((x1, x4))\n",
        "print(\"Vertical Stack:\\n\", vertical_stack)\n"
      ]
    },
    {
      "cell_type": "code",
      "execution_count": 56,
      "metadata": {
        "id": "VQpItcdCYulM",
        "colab": {
          "base_uri": "https://localhost:8080/"
        },
        "outputId": "5da3d5a5-e4b1-44af-e8b3-a641d9f6c0f9"
      },
      "outputs": [
        {
          "output_type": "stream",
          "name": "stdout",
          "text": [
            "Vertical Stack:\n",
            " [[1 2 3 4 5]\n",
            " [1 2 3 4 5]]\n"
          ]
        }
      ],
      "source": [
        "#stack x1 and x4 along rows\n",
        "\n",
        "x1 = np.array([1, 2, 3, 4, 5])\n",
        "\n",
        "# Create a copy of x1 and store it in x4\n",
        "x4 = x1.copy()\n",
        "\n",
        "# Vertical stacking (along rows)\n",
        "vertical_stack = np.vstack((x1, x4))\n",
        "print(\"Vertical Stack:\\n\", vertical_stack)"
      ]
    },
    {
      "cell_type": "markdown",
      "metadata": {
        "id": "YJD_N7B_YulM"
      },
      "source": [
        "We hope now you saw the difference between them.\n",
        "\n",
        "Fun fact! you can even use concatenate() function to join 2 arrays along with the axis. If axis is not explicitly passed, it is taken as 0 ie. along column\n",
        "\n",
        "Lets try this function as well"
      ]
    },
    {
      "cell_type": "code",
      "execution_count": 57,
      "metadata": {
        "id": "P2SNMvTaYulM",
        "colab": {
          "base_uri": "https://localhost:8080/"
        },
        "outputId": "85d9929a-ffc6-4f7e-d9a9-690415347e93"
      },
      "outputs": [
        {
          "output_type": "stream",
          "name": "stdout",
          "text": [
            "Concatenated along rows:\n",
            " [[ 1]\n",
            " [ 2]\n",
            " [ 3]\n",
            " [ 4]\n",
            " [ 5]\n",
            " [ 6]\n",
            " [ 7]\n",
            " [ 8]\n",
            " [ 9]\n",
            " [10]]\n"
          ]
        }
      ],
      "source": [
        "# arr1 =\n",
        "\n",
        "\n",
        "# arr2 =\n",
        "\n",
        "\n",
        "##join arr1 and arr2 along rows using concatenate() function\n",
        "\n",
        "# Create two 1D arrays\n",
        "arr1 = np.array([1, 2, 3, 4, 5])\n",
        "arr2 = np.array([6, 7, 8, 9, 10])\n",
        "\n",
        "# Join arr1 and arr2 along rows\n",
        "concatenated = np.concatenate((arr1.reshape(-1, 1), arr2.reshape(-1, 1)), axis=0)\n",
        "print(\"Concatenated along rows:\\n\", concatenated)\n",
        "\n"
      ]
    },
    {
      "cell_type": "code",
      "execution_count": 58,
      "metadata": {
        "id": "dbf1xSfeYulN",
        "colab": {
          "base_uri": "https://localhost:8080/"
        },
        "outputId": "f1f6fb5e-f74d-4f78-e442-4f627e53ae0c"
      },
      "outputs": [
        {
          "output_type": "stream",
          "name": "stdout",
          "text": [
            "Concatenated along columns:\n",
            " [[ 1  2  3  4  5]\n",
            " [ 6  7  8  9 10]]\n"
          ]
        }
      ],
      "source": [
        "##join arr1 and arr2 along columns using concatenate() function\n",
        "arr1 = np.array([1, 2, 3, 4, 5])\n",
        "arr2 = np.array([6, 7, 8, 9, 10])\n",
        "\n",
        "# Join arr1 and arr2 along columns\n",
        "concatenated = np.concatenate((arr1.reshape(1, -1), arr2.reshape(1, -1)), axis=0)\n",
        "print(\"Concatenated along columns:\\n\", concatenated)\n"
      ]
    },
    {
      "cell_type": "markdown",
      "metadata": {
        "id": "WKy9Lu4vYulN"
      },
      "source": [
        "## Adding, Insert and delete Numpy array"
      ]
    },
    {
      "cell_type": "markdown",
      "metadata": {
        "id": "_W4bZ70AYulN"
      },
      "source": [
        "You can also add 2 arrays using append() function also. This function appends values to end of array\n",
        "\n",
        "Lets see how"
      ]
    },
    {
      "cell_type": "code",
      "execution_count": 59,
      "metadata": {
        "id": "yC1yIKfPYulN",
        "colab": {
          "base_uri": "https://localhost:8080/"
        },
        "outputId": "0a42e2cd-7bb7-45ea-d8c2-018f5f4186e6"
      },
      "outputs": [
        {
          "output_type": "stream",
          "name": "stdout",
          "text": [
            "Appended Array: [ 1  2  3  4  5  6  7  8  9 10]\n"
          ]
        }
      ],
      "source": [
        "# append arr2 to arr1\n",
        "\n",
        "arr1 = np.array([1, 2, 3, 4, 5])\n",
        "arr2 = np.array([6, 7, 8, 9, 10])\n",
        "\n",
        "# Append arr2 to arr1\n",
        "appended_array = np.append(arr1, arr2)\n",
        "print(\"Appended Array:\", appended_array)"
      ]
    },
    {
      "cell_type": "markdown",
      "metadata": {
        "id": "Jb4EPxL4YulN"
      },
      "source": [
        "Lets use insert() function which Inserts values into array before specified index value"
      ]
    },
    {
      "cell_type": "code",
      "execution_count": 60,
      "metadata": {
        "id": "2pF_KctFYulN",
        "colab": {
          "base_uri": "https://localhost:8080/"
        },
        "outputId": "de0333f6-cbe7-4007-c714-fb758ea090e7"
      },
      "outputs": [
        {
          "output_type": "stream",
          "name": "stdout",
          "text": [
            "Modified x1: [  1   2   3   4   1   2   3   4 900   5]\n"
          ]
        }
      ],
      "source": [
        "# Inserts values into array x1 before index 4 with elements of x4\n",
        "\n",
        "x1 = np.array([1, 2, 3, 4, 5])\n",
        "\n",
        "# Create a copy of x1 and store it in x4\n",
        "x4 = x1.copy()\n",
        "\n",
        "# Change the last element of x4\n",
        "x4[-1] = 900\n",
        "\n",
        "# Insert values of x4 into x1 before index 4\n",
        "x1 = np.insert(x1, 4, x4)\n",
        "\n",
        "print(\"Modified x1:\", x1)"
      ]
    },
    {
      "cell_type": "markdown",
      "metadata": {
        "id": "uTDcvWAPYulN"
      },
      "source": [
        "You can see in above output we have inserted all the elements of x4 before index 4 in array x1."
      ]
    },
    {
      "cell_type": "code",
      "execution_count": 61,
      "metadata": {
        "id": "btEqORsVYulN",
        "colab": {
          "base_uri": "https://localhost:8080/"
        },
        "outputId": "bb2ce2ab-1cc6-4e89-94a5-11e5320a66d8"
      },
      "outputs": [
        {
          "output_type": "stream",
          "name": "stdout",
          "text": [
            "Modified x2: [1 3 4 5]\n"
          ]
        }
      ],
      "source": [
        "# delete 2nd element from array x2\n",
        "x2 = np.array([1, 2, 3, 4, 5])\n",
        "\n",
        "# Delete the 2nd element (index 1)\n",
        "x2 = np.delete(x2, 1)\n",
        "\n",
        "print(\"Modified x2:\", x2)\n",
        "\n"
      ]
    },
    {
      "cell_type": "markdown",
      "metadata": {
        "id": "HcSC-kfxYulO"
      },
      "source": [
        "Did you see? 2 value is deleted from x2 which was at index position 2"
      ]
    },
    {
      "cell_type": "markdown",
      "metadata": {
        "id": "3XDGaMkZYulS"
      },
      "source": [
        "Good Job learner!"
      ]
    },
    {
      "cell_type": "code",
      "source": [],
      "metadata": {
        "id": "CSpHyauaC9Y4"
      },
      "execution_count": null,
      "outputs": []
    }
  ],
  "metadata": {
    "kernelspec": {
      "display_name": "Python 3",
      "language": "python",
      "name": "python3"
    },
    "language_info": {
      "codemirror_mode": {
        "name": "ipython",
        "version": 3
      },
      "file_extension": ".py",
      "mimetype": "text/x-python",
      "name": "python",
      "nbconvert_exporter": "python",
      "pygments_lexer": "ipython3",
      "version": "3.8.5"
    },
    "colab": {
      "provenance": [],
      "include_colab_link": true
    }
  },
  "nbformat": 4,
  "nbformat_minor": 0
}