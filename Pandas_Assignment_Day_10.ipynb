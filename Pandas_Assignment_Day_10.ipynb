{
  "cells": [
    {
      "cell_type": "markdown",
      "metadata": {
        "id": "view-in-github",
        "colab_type": "text"
      },
      "source": [
        "<a href=\"https://colab.research.google.com/github/Priyankakannan96/Priyanka-K/blob/main/Pandas_Assignment_Day_10.ipynb\" target=\"_parent\"><img src=\"https://colab.research.google.com/assets/colab-badge.svg\" alt=\"Open In Colab\"/></a>"
      ]
    },
    {
      "cell_type": "markdown",
      "metadata": {
        "id": "XHvoVqK5mYA-"
      },
      "source": [
        "# <center>Pandas Assignment</center>"
      ],
      "id": "XHvoVqK5mYA-"
    },
    {
      "cell_type": "markdown",
      "metadata": {
        "id": "v9Qb2_aumYBF"
      },
      "source": [
        "Import pandas and numpy with their aliases"
      ],
      "id": "v9Qb2_aumYBF"
    },
    {
      "cell_type": "code",
      "execution_count": null,
      "metadata": {
        "id": "ihFP1wXZmYBF"
      },
      "outputs": [],
      "source": [
        "import pandas as pd\n",
        "import numpy as np\n",
        "\n"
      ],
      "id": "ihFP1wXZmYBF"
    },
    {
      "cell_type": "markdown",
      "metadata": {
        "id": "0b8hUBhTmYBG"
      },
      "source": [
        "Create a variable a = pd.Series([ 100, 200, 300, 400])"
      ],
      "id": "0b8hUBhTmYBG"
    },
    {
      "cell_type": "code",
      "execution_count": null,
      "metadata": {
        "id": "hzvzkbNYmYBH"
      },
      "outputs": [],
      "source": [
        "a= pd.Series([100,200,300,400])\n",
        "\n",
        "\n"
      ],
      "id": "hzvzkbNYmYBH"
    },
    {
      "cell_type": "markdown",
      "metadata": {
        "id": "BSyNFbitmYBH"
      },
      "source": [
        "Print a, and data type"
      ],
      "id": "BSyNFbitmYBH"
    },
    {
      "cell_type": "code",
      "execution_count": null,
      "metadata": {
        "id": "GMmFsjPamYBH",
        "outputId": "0e28a79d-8265-4824-c47e-7c5a844d3818",
        "colab": {
          "base_uri": "https://localhost:8080/"
        }
      },
      "outputs": [
        {
          "output_type": "stream",
          "name": "stdout",
          "text": [
            "0    100\n",
            "1    200\n",
            "2    300\n",
            "3    400\n",
            "dtype: int64\n"
          ]
        }
      ],
      "source": [
        "print(a)\n",
        "\n",
        "\n"
      ],
      "id": "GMmFsjPamYBH"
    },
    {
      "cell_type": "markdown",
      "metadata": {
        "id": "z0FryxOXmYBI"
      },
      "source": [
        "Using indexing access the element 300 from the series a."
      ],
      "id": "z0FryxOXmYBI"
    },
    {
      "cell_type": "code",
      "execution_count": null,
      "metadata": {
        "id": "wERTsh-4mYBJ",
        "outputId": "58bfddfc-57ad-4df9-89a7-f2ac2ec06c61",
        "colab": {
          "base_uri": "https://localhost:8080/"
        }
      },
      "outputs": [
        {
          "output_type": "stream",
          "name": "stdout",
          "text": [
            "a    100\n",
            "b    200\n",
            "c    300\n",
            "d    400\n",
            "dtype: int64\n"
          ]
        }
      ],
      "source": [
        "a= pd.Series([100,200,300,400], index= ['a','b','c','d'])\n",
        "print(a)\n"
      ],
      "id": "wERTsh-4mYBJ"
    },
    {
      "cell_type": "markdown",
      "metadata": {
        "id": "HHEKyOtemYBJ"
      },
      "source": [
        "What are the values of index for series a?"
      ],
      "id": "HHEKyOtemYBJ"
    },
    {
      "cell_type": "code",
      "execution_count": null,
      "metadata": {
        "id": "uQOnSJQ4mYBJ",
        "outputId": "2c412085-7dd1-478d-feb5-d6517842f2c4",
        "colab": {
          "base_uri": "https://localhost:8080/"
        }
      },
      "outputs": [
        {
          "output_type": "stream",
          "name": "stdout",
          "text": [
            "100\n"
          ]
        }
      ],
      "source": [
        "print (a [\"a\"])\n",
        "\n",
        "\n"
      ],
      "id": "uQOnSJQ4mYBJ"
    },
    {
      "cell_type": "markdown",
      "metadata": {
        "id": "EuFjG74wmYBJ"
      },
      "source": [
        "Change the index to  ['c', 'a', 'b', 'd']"
      ],
      "id": "EuFjG74wmYBJ"
    },
    {
      "cell_type": "code",
      "execution_count": null,
      "metadata": {
        "id": "1ueAAFiJmYBK",
        "outputId": "de9bc163-6a19-47a7-f5d2-375034b5a40e",
        "colab": {
          "base_uri": "https://localhost:8080/"
        }
      },
      "outputs": [
        {
          "output_type": "stream",
          "name": "stdout",
          "text": [
            "c    100\n",
            "a    200\n",
            "b    300\n",
            "d    400\n",
            "dtype: int64\n"
          ]
        }
      ],
      "source": [
        "a= pd.Series([100,200,300,400], index= ['c','a','b','d'])\n",
        "print(a)\n",
        "\n",
        "\n"
      ],
      "id": "1ueAAFiJmYBK"
    },
    {
      "cell_type": "markdown",
      "metadata": {
        "id": "ZdZLyRO7mYBK"
      },
      "source": [
        "Access the value in the series with index 'd'"
      ],
      "id": "ZdZLyRO7mYBK"
    },
    {
      "cell_type": "code",
      "execution_count": null,
      "metadata": {
        "id": "oN1ce3GymYBK",
        "outputId": "fca2ddef-4762-4266-d806-23c38fe0b97c",
        "colab": {
          "base_uri": "https://localhost:8080/"
        }
      },
      "outputs": [
        {
          "output_type": "stream",
          "name": "stdout",
          "text": [
            "400\n"
          ]
        }
      ],
      "source": [
        "print (a ['d'])\n",
        "\n"
      ],
      "id": "oN1ce3GymYBK"
    },
    {
      "cell_type": "markdown",
      "metadata": {
        "id": "eQSGwKtFmYBK"
      },
      "source": [
        "Sort the values wrt to the index and print it"
      ],
      "id": "eQSGwKtFmYBK"
    },
    {
      "cell_type": "code",
      "execution_count": null,
      "metadata": {
        "id": "-arvricBmYBL",
        "outputId": "08c26d44-1b37-4450-eea7-5c48a3e17688",
        "colab": {
          "base_uri": "https://localhost:8080/"
        }
      },
      "outputs": [
        {
          "output_type": "stream",
          "name": "stdout",
          "text": [
            "c    100\n",
            "a    200\n",
            "b    300\n",
            "d    400\n",
            "dtype: int64\n"
          ]
        }
      ],
      "source": [
        "a.sort_values()\n",
        "print(a)\n",
        "\n",
        "\n"
      ],
      "id": "-arvricBmYBL"
    },
    {
      "cell_type": "markdown",
      "metadata": {
        "id": "g-fXVSK2mYBL"
      },
      "source": [
        "Create a new Pandas Series b having index as 'e', 'f', and 'g' and value 800,450,100 and print it"
      ],
      "id": "g-fXVSK2mYBL"
    },
    {
      "cell_type": "code",
      "execution_count": null,
      "metadata": {
        "id": "fAg_rI3hmYBL",
        "outputId": "d9df38d0-5cb1-4579-d068-4803bf8fa9b3",
        "colab": {
          "base_uri": "https://localhost:8080/"
        }
      },
      "outputs": [
        {
          "output_type": "stream",
          "name": "stdout",
          "text": [
            "e    800\n",
            "f    450\n",
            "g    100\n",
            "dtype: int64\n"
          ]
        }
      ],
      "source": [
        "# b =\n",
        "b= pd.Series([800,450,100], index= ['e','f','g'])\n",
        "print(b)\n",
        "\n",
        "\n",
        "\n"
      ],
      "id": "fAg_rI3hmYBL"
    },
    {
      "cell_type": "markdown",
      "metadata": {
        "id": "jWhRRtF1mYBL"
      },
      "source": [
        "Append b series at the end of a series"
      ],
      "id": "jWhRRtF1mYBL"
    },
    {
      "cell_type": "code",
      "execution_count": null,
      "metadata": {
        "id": "TBV8hkRXmYBL",
        "colab": {
          "base_uri": "https://localhost:8080/",
          "height": 348
        },
        "outputId": "9c4ee62a-afae-45f8-bbfe-aab30b60cde1"
      },
      "outputs": [
        {
          "output_type": "error",
          "ename": "AttributeError",
          "evalue": "'Series' object has no attribute 'append'",
          "traceback": [
            "\u001b[0;31m---------------------------------------------------------------------------\u001b[0m",
            "\u001b[0;31mAttributeError\u001b[0m                            Traceback (most recent call last)",
            "\u001b[0;32m<ipython-input-40-19a5d614640b>\u001b[0m in \u001b[0;36m<cell line: 7>\u001b[0;34m()\u001b[0m\n\u001b[1;32m      5\u001b[0m \u001b[0;34m\u001b[0m\u001b[0m\n\u001b[1;32m      6\u001b[0m \u001b[0;31m# Append series b to series a\u001b[0m\u001b[0;34m\u001b[0m\u001b[0;34m\u001b[0m\u001b[0m\n\u001b[0;32m----> 7\u001b[0;31m \u001b[0mresults\u001b[0m \u001b[0;34m=\u001b[0m \u001b[0ma\u001b[0m\u001b[0;34m.\u001b[0m\u001b[0mappend\u001b[0m\u001b[0;34m(\u001b[0m\u001b[0mb\u001b[0m\u001b[0;34m,\u001b[0m \u001b[0mignore_index\u001b[0m\u001b[0;34m=\u001b[0m\u001b[0;32mTrue\u001b[0m\u001b[0;34m)\u001b[0m\u001b[0;34m\u001b[0m\u001b[0;34m\u001b[0m\u001b[0m\n\u001b[0m\u001b[1;32m      8\u001b[0m \u001b[0;34m\u001b[0m\u001b[0m\n\u001b[1;32m      9\u001b[0m \u001b[0;31m# Display the result\u001b[0m\u001b[0;34m\u001b[0m\u001b[0;34m\u001b[0m\u001b[0m\n",
            "\u001b[0;32m/usr/local/lib/python3.10/dist-packages/pandas/core/generic.py\u001b[0m in \u001b[0;36m__getattr__\u001b[0;34m(self, name)\u001b[0m\n\u001b[1;32m   6297\u001b[0m         ):\n\u001b[1;32m   6298\u001b[0m             \u001b[0;32mreturn\u001b[0m \u001b[0mself\u001b[0m\u001b[0;34m[\u001b[0m\u001b[0mname\u001b[0m\u001b[0;34m]\u001b[0m\u001b[0;34m\u001b[0m\u001b[0;34m\u001b[0m\u001b[0m\n\u001b[0;32m-> 6299\u001b[0;31m         \u001b[0;32mreturn\u001b[0m \u001b[0mobject\u001b[0m\u001b[0;34m.\u001b[0m\u001b[0m__getattribute__\u001b[0m\u001b[0;34m(\u001b[0m\u001b[0mself\u001b[0m\u001b[0;34m,\u001b[0m \u001b[0mname\u001b[0m\u001b[0;34m)\u001b[0m\u001b[0;34m\u001b[0m\u001b[0;34m\u001b[0m\u001b[0m\n\u001b[0m\u001b[1;32m   6300\u001b[0m \u001b[0;34m\u001b[0m\u001b[0m\n\u001b[1;32m   6301\u001b[0m     \u001b[0;34m@\u001b[0m\u001b[0mfinal\u001b[0m\u001b[0;34m\u001b[0m\u001b[0;34m\u001b[0m\u001b[0m\n",
            "\u001b[0;31mAttributeError\u001b[0m: 'Series' object has no attribute 'append'"
          ]
        }
      ],
      "source": [
        "# a =\n",
        "# Create series a and b\n",
        "a = pd.Series([100, 200, 300, 400])\n",
        "b = pd.Series([800, 450, 100])\n",
        "\n",
        "# Append series b to series a\n",
        "results = a.append(b, ignore_index=True)\n",
        "\n",
        "# Display the result\n",
        "print(results)\n",
        "\n"
      ],
      "id": "TBV8hkRXmYBL"
    },
    {
      "cell_type": "code",
      "execution_count": null,
      "metadata": {
        "id": "Xfm5WgBYmYBM",
        "outputId": "3e383e40-2698-4691-ed83-423b0227849b",
        "colab": {
          "base_uri": "https://localhost:8080/"
        }
      },
      "outputs": [
        {
          "output_type": "stream",
          "name": "stdout",
          "text": [
            "0    100\n",
            "1    200\n",
            "2    300\n",
            "3    400\n",
            "4    800\n",
            "5    450\n",
            "6    100\n",
            "dtype: int64\n"
          ]
        }
      ],
      "source": [
        "#print a again after appending b into it\n",
        "\n",
        "import pandas as pd\n",
        "\n",
        "\n",
        "# Print a after appending b\n",
        "print(a)\n",
        "\n"
      ],
      "id": "Xfm5WgBYmYBM"
    },
    {
      "cell_type": "markdown",
      "metadata": {
        "id": "6lz_BR0umYBM"
      },
      "source": [
        "Sort the values in descending order of a and print the index of the sorted series"
      ],
      "id": "6lz_BR0umYBM"
    },
    {
      "cell_type": "code",
      "execution_count": null,
      "metadata": {
        "id": "5srJV0y0mYBM",
        "colab": {
          "base_uri": "https://localhost:8080/"
        },
        "outputId": "655d371a-41fa-4b0d-c7f4-6935a8df660c"
      },
      "outputs": [
        {
          "output_type": "stream",
          "name": "stdout",
          "text": [
            "e    800\n",
            "f    450\n",
            "d    400\n",
            "c    300\n",
            "b    200\n",
            "a    100\n",
            "g    100\n",
            "dtype: int64\n",
            "Index(['e', 'f', 'd', 'c', 'b', 'a', 'g'], dtype='object')\n"
          ]
        }
      ],
      "source": [
        "# a =\n",
        "import pandas as pd\n",
        "a= pd.Series([100,200,300,400,800,450,100], index=['a','b','c','d','e','f','g'])\n",
        "sorted_a= a.sort_values(ascending= False)\n",
        "print(sorted_a)\n",
        "print(sorted_a.index)\n",
        "\n",
        "\n",
        "\n"
      ],
      "id": "5srJV0y0mYBM"
    },
    {
      "cell_type": "code",
      "execution_count": null,
      "metadata": {
        "id": "9OxmwQRAmYBM"
      },
      "outputs": [],
      "source": [
        "\n",
        "\n"
      ],
      "id": "9OxmwQRAmYBM"
    },
    {
      "cell_type": "markdown",
      "metadata": {
        "id": "OQ5gj4romYBM"
      },
      "source": [
        "## Pandas DataFrame"
      ],
      "id": "OQ5gj4romYBM"
    },
    {
      "cell_type": "markdown",
      "metadata": {
        "id": "tD7de_2amYBM"
      },
      "source": [
        "### Part 1"
      ],
      "id": "tD7de_2amYBM"
    },
    {
      "cell_type": "markdown",
      "metadata": {
        "id": "z_nAQa4BmYBN"
      },
      "source": [
        "Create a pandas dataframe df from the series 'a' that we used in the last section, print the dataframe"
      ],
      "id": "z_nAQa4BmYBN"
    },
    {
      "cell_type": "code",
      "execution_count": null,
      "metadata": {
        "id": "ojD-B6FvmYBN",
        "outputId": "ab419e98-f3d1-4dfa-aaac-cfbb196d6f65",
        "colab": {
          "base_uri": "https://localhost:8080/"
        }
      },
      "outputs": [
        {
          "output_type": "stream",
          "name": "stdout",
          "text": [
            "     0\n",
            "0  100\n",
            "1  200\n",
            "2  300\n",
            "3  400\n",
            "4  800\n",
            "5  450\n",
            "6  100\n"
          ]
        }
      ],
      "source": [
        "import pandas as pd\n",
        "df= pd.DataFrame([100,200,300,400,800,450,100])\n",
        "print(df)\n",
        "\n",
        "\n",
        "\n"
      ],
      "id": "ojD-B6FvmYBN"
    },
    {
      "cell_type": "markdown",
      "metadata": {
        "id": "yzrIH3irmYBN"
      },
      "source": [
        "What is the shape of the datafarme <br>\n",
        "(also, what does it imply?)"
      ],
      "id": "yzrIH3irmYBN"
    },
    {
      "cell_type": "code",
      "execution_count": null,
      "metadata": {
        "id": "aFo5tNrVmYBN",
        "outputId": "f9d376e7-1614-4137-fc01-cba2a02cf167",
        "colab": {
          "base_uri": "https://localhost:8080/"
        }
      },
      "outputs": [
        {
          "output_type": "execute_result",
          "data": {
            "text/plain": [
              "(7, 1)"
            ]
          },
          "metadata": {},
          "execution_count": 7
        }
      ],
      "source": [
        "df.shape\n",
        "\n",
        "\n"
      ],
      "id": "aFo5tNrVmYBN"
    },
    {
      "cell_type": "markdown",
      "metadata": {
        "id": "Dl0Hr0LSmYBO"
      },
      "source": [
        "Hey! remember shape (7,1) implies dataframe has 7 rows and 1 column."
      ],
      "id": "Dl0Hr0LSmYBO"
    },
    {
      "cell_type": "markdown",
      "metadata": {
        "id": "hwcaXl43mYBO"
      },
      "source": [
        "What is the index of the dataframe, is it same as the series 'a'"
      ],
      "id": "hwcaXl43mYBO"
    },
    {
      "cell_type": "code",
      "execution_count": null,
      "metadata": {
        "id": "1-gMxT-emYBO"
      },
      "outputs": [],
      "source": [
        "# yep its same as the series.\n",
        "\n"
      ],
      "id": "1-gMxT-emYBO"
    },
    {
      "cell_type": "markdown",
      "metadata": {
        "id": "C5wadnBymYBO"
      },
      "source": [
        "print the head and tail of the dataframe. <br>\n",
        "Additional - (what does head and tali represent?)"
      ],
      "id": "C5wadnBymYBO"
    },
    {
      "cell_type": "code",
      "execution_count": null,
      "metadata": {
        "id": "U2vxYrPnmYBO",
        "colab": {
          "base_uri": "https://localhost:8080/"
        },
        "outputId": "391b6abd-80c9-4884-dc38-2141d5a0ae50"
      },
      "outputs": [
        {
          "output_type": "stream",
          "name": "stdout",
          "text": [
            "     0\n",
            "0  100\n",
            "1  200\n",
            "2  300\n",
            "3  400\n",
            "4  800\n"
          ]
        }
      ],
      "source": [
        "import pandas as pd\n",
        "df= pd.DataFrame([100,200,300,400,800,450,100])\n",
        "print(df.head())\n",
        "\n",
        "\n"
      ],
      "id": "U2vxYrPnmYBO"
    },
    {
      "cell_type": "code",
      "execution_count": null,
      "metadata": {
        "id": "nikOdGC_mYBO",
        "colab": {
          "base_uri": "https://localhost:8080/"
        },
        "outputId": "927e1863-550c-4b34-b899-356c05e53348"
      },
      "outputs": [
        {
          "output_type": "stream",
          "name": "stdout",
          "text": [
            "     0\n",
            "2  300\n",
            "3  400\n",
            "4  800\n",
            "5  450\n",
            "6  100\n"
          ]
        }
      ],
      "source": [
        "print(df.tail())\n",
        "\n"
      ],
      "id": "nikOdGC_mYBO"
    },
    {
      "cell_type": "markdown",
      "metadata": {
        "id": "Ci2tiwbBmYBO"
      },
      "source": [
        "Rename the column of the dataframe as 'points'"
      ],
      "id": "Ci2tiwbBmYBO"
    },
    {
      "cell_type": "code",
      "execution_count": null,
      "metadata": {
        "id": "K3OsbVD3mYBP",
        "colab": {
          "base_uri": "https://localhost:8080/"
        },
        "outputId": "5a7bd702-fa15-438f-eb30-44c912505bc0"
      },
      "outputs": [
        {
          "output_type": "stream",
          "name": "stdout",
          "text": [
            "   points\n",
            "0     100\n",
            "1     200\n",
            "2     300\n",
            "3     400\n",
            "4     800\n",
            "5     450\n",
            "6     100\n"
          ]
        }
      ],
      "source": [
        "import pandas as pd\n",
        "df= pd.DataFrame([100,200,300,400,800,450,100])\n",
        "df.columns=['points']\n",
        "print(df)\n",
        "\n",
        "\n"
      ],
      "id": "K3OsbVD3mYBP"
    },
    {
      "cell_type": "markdown",
      "metadata": {
        "id": "bBV0VfzzmYBP"
      },
      "source": [
        "Create another Series 'fruits', which contains random names of fruits from ['orange','mango','apple']. The series should contain 7 elements, randomly selected from ['orange','mango','apple']"
      ],
      "id": "bBV0VfzzmYBP"
    },
    {
      "cell_type": "code",
      "execution_count": null,
      "metadata": {
        "id": "baUmpsuhmYBP",
        "colab": {
          "base_uri": "https://localhost:8080/"
        },
        "outputId": "8934fa54-c7cf-410a-9353-512c7c1664a7"
      },
      "outputs": [
        {
          "output_type": "stream",
          "name": "stdout",
          "text": [
            "0    orange\n",
            "1    orange\n",
            "2    orange\n",
            "3     apple\n",
            "4     mango\n",
            "5     mango\n",
            "6     mango\n",
            "dtype: object\n"
          ]
        }
      ],
      "source": [
        "#Create fruits array\n",
        "# fruits =\n",
        "import pandas as pd\n",
        "import numpy as np\n",
        "fruits_list = ['orange', 'mango', 'apple']\n",
        "fruits = pd.Series(np.random.choice(fruits_list, size=7))\n",
        "print(fruits)"
      ],
      "id": "baUmpsuhmYBP"
    },
    {
      "cell_type": "code",
      "execution_count": null,
      "metadata": {
        "id": "QrbnjM8FmYBP",
        "colab": {
          "base_uri": "https://localhost:8080/"
        },
        "outputId": "c664d508-f339-4b9d-bde6-39b95f47e563"
      },
      "outputs": [
        {
          "output_type": "stream",
          "name": "stdout",
          "text": [
            "0    orange\n",
            "1     mango\n",
            "2     apple\n",
            "dtype: object\n"
          ]
        }
      ],
      "source": [
        "#Create series fruits out of fruits array\n",
        "fruits_list=['orange', 'mango', 'apple']\n",
        "fruits_array= pd.Series(fruits_list)\n",
        "print(fruits_array)\n",
        "\n",
        "\n"
      ],
      "id": "QrbnjM8FmYBP"
    },
    {
      "cell_type": "markdown",
      "metadata": {
        "id": "20slMbq5mYBP"
      },
      "source": [
        "Change the index of fruits to the index of dataframe df"
      ],
      "id": "20slMbq5mYBP"
    },
    {
      "cell_type": "code",
      "execution_count": null,
      "metadata": {
        "id": "1n4THBgkmYBQ",
        "colab": {
          "base_uri": "https://localhost:8080/"
        },
        "outputId": "4834087a-f2cd-4551-c935-44e3b18da9bd"
      },
      "outputs": [
        {
          "output_type": "stream",
          "name": "stdout",
          "text": [
            "DataFrame:\n",
            "     0\n",
            "0  100\n",
            "1  200\n",
            "2  300\n",
            "\n",
            "Updated Series:\n",
            "0     Apple\n",
            "1    Banana\n",
            "2    Cherry\n",
            "dtype: object\n"
          ]
        }
      ],
      "source": [
        "import pandas as pd\n",
        "df = pd.DataFrame([100,200,300])\n",
        "fruits_list = ['Apple', 'Banana', 'Cherry']\n",
        "fruits = pd.Series(fruits_list)\n",
        "fruits.index = df.index\n",
        "print(\"DataFrame:\")\n",
        "print(df)\n",
        "print(\"\\nUpdated Series:\")\n",
        "print(fruits)\n",
        "\n",
        "\n",
        "\n",
        "\n",
        "\n",
        "\n",
        "\n"
      ],
      "id": "1n4THBgkmYBQ"
    },
    {
      "cell_type": "markdown",
      "metadata": {
        "id": "oPv8dJ_2mYBQ"
      },
      "source": [
        "Add this fruits series as a new column to the dataframe df with its column name as 'fruits'\n",
        "<br>print the head of the dataframe to verify"
      ],
      "id": "oPv8dJ_2mYBQ"
    },
    {
      "cell_type": "code",
      "execution_count": null,
      "metadata": {
        "id": "tit_GDscmYBQ",
        "colab": {
          "base_uri": "https://localhost:8080/"
        },
        "outputId": "57bee3d8-0504-4de3-ef05-ad0ea68d0ebf"
      },
      "outputs": [
        {
          "output_type": "stream",
          "name": "stdout",
          "text": [
            "     0  fruits\n",
            "0  100   Apple\n",
            "1  200  Banana\n",
            "2  300  Cherry\n"
          ]
        }
      ],
      "source": [
        "import pandas as pd\n",
        "\n",
        "# Create a DataFrame\n",
        "df = pd.DataFrame([100, 200, 300])\n",
        "\n",
        "# List of fruits\n",
        "fruits_list = ['Apple', 'Banana', 'Cherry']\n",
        "\n",
        "# Convert the fruits list to a Series\n",
        "fruits = pd.Series(fruits_list)\n",
        "\n",
        "# Add the fruits Series as a new column in the DataFrame\n",
        "df['fruits'] = fruits\n",
        "\n",
        "# Print the head of the DataFrame\n",
        "print(df.head())\n",
        "\n",
        "\n",
        "\n"
      ],
      "id": "tit_GDscmYBQ"
    },
    {
      "cell_type": "markdown",
      "metadata": {
        "id": "ACsvenslmYBQ"
      },
      "source": [
        "## Pandas Concatenation"
      ],
      "id": "ACsvenslmYBQ"
    },
    {
      "cell_type": "markdown",
      "metadata": {
        "id": "cwgg82N0mYBQ"
      },
      "source": [
        "Create a dataframe  d1 where the cols are  ‘city’ : [‘Chandigarh’, ‘Delhi’, ‘Kanpur’, ‘Chennai’, ‘Manali’ ] and ‘Temperature’ : [15, 22, 20, 26,-2]"
      ],
      "id": "cwgg82N0mYBQ"
    },
    {
      "cell_type": "code",
      "execution_count": null,
      "metadata": {
        "id": "09tWwU18mYBR"
      },
      "outputs": [],
      "source": [
        "# d1 =\n",
        "d1= pd.DataFrame({'city':['Chandigarh', 'Delhi', 'Kanpur', 'Chennai', 'Manali'],'Temperature':[15, 22, 20, 26,-2]})\n",
        "\n",
        "\n",
        "\n"
      ],
      "id": "09tWwU18mYBR"
    },
    {
      "cell_type": "markdown",
      "metadata": {
        "id": "XAquuUx_mYBR"
      },
      "source": [
        "Print(d1)"
      ],
      "id": "XAquuUx_mYBR"
    },
    {
      "cell_type": "code",
      "execution_count": null,
      "metadata": {
        "id": "tEaf6dUVmYBR",
        "colab": {
          "base_uri": "https://localhost:8080/"
        },
        "outputId": "2eb56660-379d-4b7e-be4d-17dcd7f0d512"
      },
      "outputs": [
        {
          "output_type": "stream",
          "name": "stdout",
          "text": [
            "         city  Temperature\n",
            "0  Chandigarh           15\n",
            "1       Delhi           22\n",
            "2      Kanpur           20\n",
            "3     Chennai           26\n",
            "4      Manali           -2\n"
          ]
        }
      ],
      "source": [
        "print(d1)\n",
        "\n",
        "\n"
      ],
      "id": "tEaf6dUVmYBR"
    },
    {
      "cell_type": "markdown",
      "metadata": {
        "id": "YmZ9u-4FmYBR"
      },
      "source": [
        "What is the shape of d1."
      ],
      "id": "YmZ9u-4FmYBR"
    },
    {
      "cell_type": "code",
      "execution_count": null,
      "metadata": {
        "id": "upPyfWR7mYBR",
        "colab": {
          "base_uri": "https://localhost:8080/"
        },
        "outputId": "51b6c6c3-9aef-479c-aa40-a0f52d1480bc"
      },
      "outputs": [
        {
          "output_type": "execute_result",
          "data": {
            "text/plain": [
              "(5, 2)"
            ]
          },
          "metadata": {},
          "execution_count": 18
        }
      ],
      "source": [
        "d1.shape\n",
        "\n",
        "\n"
      ],
      "id": "upPyfWR7mYBR"
    },
    {
      "cell_type": "markdown",
      "metadata": {
        "id": "JtBQ5SLtmYBS"
      },
      "source": [
        "Set city = d1['city']"
      ],
      "id": "JtBQ5SLtmYBS"
    },
    {
      "cell_type": "code",
      "execution_count": null,
      "metadata": {
        "id": "mzE78QzrmYBS"
      },
      "outputs": [],
      "source": [
        "city = d1['city']\n",
        "\n",
        "\n"
      ],
      "id": "mzE78QzrmYBS"
    },
    {
      "cell_type": "markdown",
      "metadata": {
        "id": "WubWnFIcmYBS"
      },
      "source": [
        "print city <br>\n",
        "What is the type of city."
      ],
      "id": "WubWnFIcmYBS"
    },
    {
      "cell_type": "code",
      "execution_count": null,
      "metadata": {
        "id": "6d4EjYTemYBS",
        "colab": {
          "base_uri": "https://localhost:8080/"
        },
        "outputId": "973b84ae-bbd5-4a14-c7f6-2921ccacbfef"
      },
      "outputs": [
        {
          "output_type": "stream",
          "name": "stdout",
          "text": [
            "<class 'pandas.core.series.Series'>\n"
          ]
        }
      ],
      "source": [
        "print(type(city))\n",
        "\n",
        "\n"
      ],
      "id": "6d4EjYTemYBS"
    },
    {
      "cell_type": "markdown",
      "metadata": {
        "id": "uUdrLgg6mYBS"
      },
      "source": [
        "Create another datafeame 'd2' where the columns are <br>\n",
        "'city' - ['Bengalaru','Coimbatore','Srirangam','Pondicherry'] <br>\n",
        "'Temperature' - [24,35,36,39]"
      ],
      "id": "uUdrLgg6mYBS"
    },
    {
      "cell_type": "code",
      "execution_count": null,
      "metadata": {
        "id": "CFBCGcvhmYBS"
      },
      "outputs": [],
      "source": [
        "# d2 =\n",
        "d2= pd.DataFrame({'city':['Bengalaru','Coimbatore','Srirangam','Pondicherry'],'Temperature':[24, 35, 36, 39]})\n",
        "\n",
        "\n"
      ],
      "id": "CFBCGcvhmYBS"
    },
    {
      "cell_type": "markdown",
      "metadata": {
        "id": "HivVdLN5mYBT"
      },
      "source": [
        "print the shape of this dataframe"
      ],
      "id": "HivVdLN5mYBT"
    },
    {
      "cell_type": "code",
      "execution_count": null,
      "metadata": {
        "id": "9FFgtQJhmYBT",
        "colab": {
          "base_uri": "https://localhost:8080/"
        },
        "outputId": "3ef9d3f7-257b-439b-a962-95401b4ea255"
      },
      "outputs": [
        {
          "output_type": "execute_result",
          "data": {
            "text/plain": [
              "(4, 2)"
            ]
          },
          "metadata": {},
          "execution_count": 24
        }
      ],
      "source": [
        "d2.shape\n"
      ],
      "id": "9FFgtQJhmYBT"
    },
    {
      "cell_type": "markdown",
      "metadata": {
        "id": "UK38h5ktmYBT"
      },
      "source": [
        "merge the two dataframes together, save it in a new dataframe named 'd3'"
      ],
      "id": "UK38h5ktmYBT"
    },
    {
      "cell_type": "code",
      "execution_count": null,
      "metadata": {
        "id": "GMbOPfjCmYBT",
        "colab": {
          "base_uri": "https://localhost:8080/"
        },
        "outputId": "84253215-d9fb-432f-997c-f8539ff9a519"
      },
      "outputs": [
        {
          "output_type": "stream",
          "name": "stdout",
          "text": [
            "          city  Temperature\n",
            "0   Chandigarh           15\n",
            "1        Delhi           22\n",
            "2       Kanpur           20\n",
            "3      Chennai           26\n",
            "4       Manali           -2\n",
            "5    Bengalaru           24\n",
            "6   Coimbatore           35\n",
            "7    Srirangam           36\n",
            "8  Pondicherry           39\n"
          ]
        }
      ],
      "source": [
        "# d3 =\n",
        "d3= pd.concat([d1,d2]).reset_index(drop=True)\n",
        "print(d3)\n",
        "\n",
        "\n",
        "\n",
        "\n"
      ],
      "id": "GMbOPfjCmYBT"
    },
    {
      "cell_type": "markdown",
      "metadata": {
        "id": "1dGlNGzjmYBT"
      },
      "source": [
        "Select the part of the dataframe such that it contains cities wherer temp is less then or equal to 20 <br>\n",
        "How many cities are there?"
      ],
      "id": "1dGlNGzjmYBT"
    },
    {
      "cell_type": "code",
      "execution_count": null,
      "metadata": {
        "id": "1vtC2UkgmYBT",
        "colab": {
          "base_uri": "https://localhost:8080/"
        },
        "outputId": "cc26c164-24c2-4539-f8b7-8e64c7db4ee8"
      },
      "outputs": [
        {
          "output_type": "execute_result",
          "data": {
            "text/plain": [
              "3"
            ]
          },
          "metadata": {},
          "execution_count": 45
        }
      ],
      "source": [
        "d3\n",
        "d3[['city','Temperature']]\n",
        "d3[d3['Temperature']<=20]['city']\n",
        "d3.loc[d3['Temperature']<=20, 'city'].count()\n",
        "\n",
        "\n"
      ],
      "id": "1vtC2UkgmYBT"
    },
    {
      "cell_type": "markdown",
      "metadata": {
        "id": "82QIQRQUmYBT"
      },
      "source": [
        "Select the part of the dataframe such that it contains the cities where tempearature greater than or equal to 35"
      ],
      "id": "82QIQRQUmYBT"
    },
    {
      "cell_type": "code",
      "execution_count": null,
      "metadata": {
        "id": "Ea_hMtyGmYBU",
        "colab": {
          "base_uri": "https://localhost:8080/"
        },
        "outputId": "658516eb-6c81-468b-e10c-554b1d41c17f"
      },
      "outputs": [
        {
          "output_type": "execute_result",
          "data": {
            "text/plain": [
              "3"
            ]
          },
          "metadata": {},
          "execution_count": 44
        }
      ],
      "source": [
        "d3\n",
        "d3[['city','Temperature']]\n",
        "d3[d3['Temperature']>=35]['city']\n",
        "d3.loc[d3['Temperature']>=35, 'city'].count()\n",
        "\n",
        "\n",
        "\n"
      ],
      "id": "Ea_hMtyGmYBU"
    },
    {
      "cell_type": "markdown",
      "metadata": {
        "id": "BrYscXpWmYBU"
      },
      "source": [
        "## Applying functions to columns and creating new columns"
      ],
      "id": "BrYscXpWmYBU"
    },
    {
      "cell_type": "markdown",
      "metadata": {
        "id": "7Z4ioDxtmYBU"
      },
      "source": [
        "We need to create another column in d3, which contains  a boolean value for each city to indicate whether it's a union territory or not.\n",
        "- HINT: Chandigarh, Pondicherry and Delhi are only 3 union territories here.\n"
      ],
      "id": "7Z4ioDxtmYBU"
    },
    {
      "cell_type": "code",
      "execution_count": null,
      "metadata": {
        "id": "FR2wgv6tmYBU"
      },
      "outputs": [],
      "source": [
        "# write function here\n",
        "\n",
        "# def is_ut(x):\n",
        "\n",
        "#     # write code below\n",
        "\n",
        "# d3['is_ut'] =\n",
        "d3['is_ut'] =d3['city'].apply(lambda x: x in ['Chandigarh', 'Pondicherry', 'Delhi'])\n"
      ],
      "id": "FR2wgv6tmYBU"
    },
    {
      "cell_type": "code",
      "execution_count": null,
      "metadata": {
        "id": "0hd7QjComYBU",
        "colab": {
          "base_uri": "https://localhost:8080/"
        },
        "outputId": "5c75c738-56ca-4495-b476-aaf2eae92c46"
      },
      "outputs": [
        {
          "output_type": "stream",
          "name": "stdout",
          "text": [
            "          city  Temperature  is_ut     ut\n",
            "0   Chandigarh           15   True   True\n",
            "1        Delhi           22   True   True\n",
            "2       Kanpur           20  False  False\n",
            "3      Chennai           26  False  False\n",
            "4       Manali           -2  False  False\n",
            "5    Bengalaru           24  False  False\n",
            "6   Coimbatore           35  False  False\n",
            "7    Srirangam           36  False  False\n",
            "8  Pondicherry           39   True   True\n"
          ]
        }
      ],
      "source": [
        "# print d3\n",
        "print(d3)\n"
      ],
      "id": "0hd7QjComYBU"
    },
    {
      "cell_type": "markdown",
      "metadata": {
        "id": "z88YETlMmYBU"
      },
      "source": [
        "The temperatures mentioned in ‘Temperature’ column are mentioned in Celsius, we need another column which contains the same in Fahrenheit."
      ],
      "id": "z88YETlMmYBU"
    },
    {
      "cell_type": "markdown",
      "metadata": {
        "id": "ywp07m-xmYBU"
      },
      "source": [
        "HINT -\n",
        "- Define a function c_to_f which takes input temp in celsius and returns a value with temperature in Fahrenheit.\n",
        "- To check: c_to_f(10) should return 50.\n"
      ],
      "id": "ywp07m-xmYBU"
    },
    {
      "cell_type": "code",
      "execution_count": null,
      "metadata": {
        "id": "V0x_0IAAmYBV"
      },
      "outputs": [],
      "source": [
        "# write function here\n",
        "def c_to_f(celsius):\n",
        "    # Convert Celsius to Fahrenheit\n",
        "    fahrenheit = (celsius * 9/5) + 32\n",
        "    return fahrenheit\n",
        "\n",
        "\n",
        "\n",
        "\n",
        "\n",
        "\n"
      ],
      "id": "V0x_0IAAmYBV"
    },
    {
      "cell_type": "code",
      "execution_count": null,
      "metadata": {
        "id": "Wc9meranmYBV",
        "colab": {
          "base_uri": "https://localhost:8080/"
        },
        "outputId": "04286eea-b23d-4fa4-fd6a-afabb71cf4fd"
      },
      "outputs": [
        {
          "output_type": "stream",
          "name": "stdout",
          "text": [
            "50.0\n"
          ]
        }
      ],
      "source": [
        "# check function c_to_f(10)\n",
        "# Check the function\n",
        "print(c_to_f(10))\n",
        "\n"
      ],
      "id": "Wc9meranmYBV"
    },
    {
      "cell_type": "code",
      "execution_count": null,
      "metadata": {
        "id": "H79GUcoImYBV",
        "colab": {
          "base_uri": "https://localhost:8080/"
        },
        "outputId": "84e80c73-aa55-44d3-d766-9cad2e1453e4"
      },
      "outputs": [
        {
          "output_type": "stream",
          "name": "stdout",
          "text": [
            "0     59.0\n",
            "1     71.6\n",
            "2     68.0\n",
            "3     78.8\n",
            "4     28.4\n",
            "5     75.2\n",
            "6     95.0\n",
            "7     96.8\n",
            "8    102.2\n",
            "Name: Temperature, dtype: float64\n"
          ]
        }
      ],
      "source": [
        "#apply function c_to_f to d3 to create a column 'temp_farenhiet'\n",
        "\n",
        "\n",
        "print(d3.head(10))"
      ],
      "id": "H79GUcoImYBV"
    },
    {
      "cell_type": "markdown",
      "metadata": {
        "id": "Wj0p6JKHmYBV"
      },
      "source": [
        "## Indexing and selecting rows in DataFrame"
      ],
      "id": "Wj0p6JKHmYBV"
    },
    {
      "cell_type": "markdown",
      "metadata": {
        "id": "fFitRJy2mYBV"
      },
      "source": [
        "Select subset of the dataframe d1 such that it contains the cities which are union territories."
      ],
      "id": "fFitRJy2mYBV"
    },
    {
      "cell_type": "code",
      "execution_count": null,
      "metadata": {
        "id": "Kg8OSVz0mYBV",
        "colab": {
          "base_uri": "https://localhost:8080/"
        },
        "outputId": "42545387-c0a7-4814-88ab-222c19f4acb1"
      },
      "outputs": [
        {
          "output_type": "stream",
          "name": "stdout",
          "text": [
            "         city           status\n",
            "0       Delhi  Union Territory\n",
            "2  Chandigarh  Union Territory\n",
            "3  Puducherry  Union Territory\n"
          ]
        }
      ],
      "source": [
        "import pandas as pd\n",
        "\n",
        "# Sample DataFrame (example)\n",
        "data = {\n",
        "    'city': ['Delhi', 'Mumbai', 'Chandigarh', 'Puducherry', 'Goa'],\n",
        "    'status': ['Union Territory', 'Maharashtra', 'Union Territory', 'Union Territory', 'Goa']\n",
        "}\n",
        "\n",
        "# Creating DataFrame\n",
        "d1 = pd.DataFrame(data)\n",
        "\n",
        "union_territories = d1[d1['status'] == 'Union Territory']\n",
        "\n",
        "# Display the result\n",
        "print(union_territories)\n",
        "\n"
      ],
      "id": "Kg8OSVz0mYBV"
    },
    {
      "cell_type": "markdown",
      "metadata": {
        "id": "XnxQl4ZPmYBV"
      },
      "source": [
        "Select a subset of the dataframe d1 such that it contains the cities which only have temperature above 90 Farenhiet."
      ],
      "id": "XnxQl4ZPmYBV"
    },
    {
      "cell_type": "code",
      "execution_count": null,
      "metadata": {
        "id": "9o62VSn7mYBV",
        "colab": {
          "base_uri": "https://localhost:8080/"
        },
        "outputId": "1c7f8f49-9304-425d-a7ac-f1323c1b4836"
      },
      "outputs": [
        {
          "output_type": "stream",
          "name": "stdout",
          "text": [
            "         city  temperature\n",
            "0       Delhi           95\n",
            "2  Chandigarh           92\n",
            "4         Goa           98\n"
          ]
        }
      ],
      "source": [
        "import pandas as pd\n",
        "\n",
        "\n",
        "# Sample DataFrame (example)\n",
        "data = {\n",
        "    'city': ['Delhi', 'Mumbai', 'Chandigarh', 'Puducherry', 'Goa'],\n",
        "    'temperature': [95, 85, 92, 88, 98]  # temperatures in Fahrenheit\n",
        "}\n",
        "\n",
        "# Creating DataFrame\n",
        "d1 = pd.DataFrame(data)\n",
        "\n",
        "# Filter the DataFrame for cities with temperature above 90°F\n",
        "hot_cities = d1[d1['temperature'] > 90]\n",
        "\n",
        "# Display the result\n",
        "print(hot_cities)\n",
        "\n",
        "\n"
      ],
      "id": "9o62VSn7mYBV"
    },
    {
      "cell_type": "markdown",
      "metadata": {
        "id": "IQq7K2EtmYBW"
      },
      "source": [
        "Select only the first three rows of the dataframe d1.\n"
      ],
      "id": "IQq7K2EtmYBW"
    },
    {
      "cell_type": "code",
      "execution_count": null,
      "metadata": {
        "id": "PlmVOyAAmYBW",
        "colab": {
          "base_uri": "https://localhost:8080/"
        },
        "outputId": "c3e39967-3268-40bd-e730-ac0999cf38e2"
      },
      "outputs": [
        {
          "output_type": "stream",
          "name": "stdout",
          "text": [
            "         city  Temperature\n",
            "0  Chandigarh           15\n",
            "1       Delhi           22\n",
            "2      Kanpur           20\n"
          ]
        }
      ],
      "source": [
        "d1= pd.DataFrame({'city':['Chandigarh', 'Delhi', 'Kanpur', 'Chennai', 'Manali'],'Temperature':[15, 22, 20, 26,-2]})\n",
        "print(d1.head(3))"
      ],
      "id": "PlmVOyAAmYBW"
    },
    {
      "cell_type": "markdown",
      "metadata": {
        "id": "MKNIbwW2mYBW"
      },
      "source": [
        "Select all the rows and last two columns in the dataframe.\n",
        "\n",
        "\n"
      ],
      "id": "MKNIbwW2mYBW"
    },
    {
      "cell_type": "code",
      "execution_count": null,
      "metadata": {
        "id": "WfQasVJImYBW",
        "colab": {
          "base_uri": "https://localhost:8080/"
        },
        "outputId": "9143a1a1-08b3-464a-93e5-91bc10ce0f48"
      },
      "outputs": [
        {
          "output_type": "stream",
          "name": "stdout",
          "text": [
            "   Temperature\n",
            "0           15\n",
            "1           22\n",
            "2           20\n",
            "3           26\n",
            "4           -2\n"
          ]
        }
      ],
      "source": [
        "# Select all rows and the last two columns\n",
        "last_two_columns = d1.iloc[:, -1:]\n",
        "\n",
        "# Display the result\n",
        "print(last_two_columns)"
      ],
      "id": "WfQasVJImYBW"
    },
    {
      "cell_type": "markdown",
      "metadata": {
        "id": "LQ9xspkHmYBW"
      },
      "source": [
        "## Groupby"
      ],
      "id": "LQ9xspkHmYBW"
    },
    {
      "cell_type": "code",
      "execution_count": null,
      "metadata": {
        "id": "8JBrRq3Ua_IX"
      },
      "outputs": [],
      "source": [
        "# Create a dataframe using dictionary of your choice\n",
        "\n",
        "# data =\n",
        "\n",
        "\n"
      ],
      "id": "8JBrRq3Ua_IX"
    },
    {
      "cell_type": "code",
      "execution_count": null,
      "metadata": {
        "id": "OoIv6x_qa_IY"
      },
      "outputs": [],
      "source": [
        "# Use Groupby of single column with aggregate sum()\n",
        "\n",
        "\n"
      ],
      "id": "OoIv6x_qa_IY"
    },
    {
      "cell_type": "code",
      "execution_count": null,
      "metadata": {
        "id": "e0pyrHrVa_IY"
      },
      "outputs": [],
      "source": [
        "# Use Groupby of single column with aggregate count()\n",
        "\n"
      ],
      "id": "e0pyrHrVa_IY"
    },
    {
      "cell_type": "code",
      "execution_count": null,
      "metadata": {
        "id": "QpUFDSpga_IZ"
      },
      "outputs": [],
      "source": [
        "# Use Groupby of single column with aggregate min() and max()\n",
        "\n",
        "\n"
      ],
      "id": "QpUFDSpga_IZ"
    },
    {
      "cell_type": "code",
      "execution_count": null,
      "metadata": {
        "id": "nKVnxigMa_Ia"
      },
      "outputs": [],
      "source": [
        "# Use Groupby of any 2 columns with aggregate mean()\n",
        "\n",
        "\n"
      ],
      "id": "nKVnxigMa_Ia"
    },
    {
      "cell_type": "code",
      "execution_count": null,
      "metadata": {
        "id": "iO5UN0MBa_Ib"
      },
      "outputs": [],
      "source": [
        "# Use Groupby of any 2 columns with aggregate min() and max()\n",
        "\n",
        "\n"
      ],
      "id": "iO5UN0MBa_Ib"
    },
    {
      "cell_type": "code",
      "execution_count": null,
      "metadata": {
        "id": "YPo3hw-ya_Ic"
      },
      "outputs": [],
      "source": [],
      "id": "YPo3hw-ya_Ic"
    },
    {
      "cell_type": "markdown",
      "metadata": {
        "id": "goEgED0xmYBY"
      },
      "source": [
        "## Data Range"
      ],
      "id": "goEgED0xmYBY"
    },
    {
      "cell_type": "markdown",
      "metadata": {
        "id": "jJOxVdLemYBY"
      },
      "source": [
        "Create a pandas daterange where starting date is 1st of January,2020 and end date is 1st of April 2021, store it in a new variable named 'a'"
      ],
      "id": "jJOxVdLemYBY"
    },
    {
      "cell_type": "code",
      "execution_count": null,
      "metadata": {
        "id": "Nvx8f5GTmYBZ",
        "colab": {
          "base_uri": "https://localhost:8080/"
        },
        "outputId": "3725a986-dfe6-498e-c7e2-46eb9b895346"
      },
      "outputs": [
        {
          "output_type": "stream",
          "name": "stdout",
          "text": [
            "DatetimeIndex(['2020-01-01', '2020-01-02', '2020-01-03', '2020-01-04',\n",
            "               '2020-01-05', '2020-01-06', '2020-01-07', '2020-01-08',\n",
            "               '2020-01-09', '2020-01-10',\n",
            "               ...\n",
            "               '2021-03-23', '2021-03-24', '2021-03-25', '2021-03-26',\n",
            "               '2021-03-27', '2021-03-28', '2021-03-29', '2021-03-30',\n",
            "               '2021-03-31', '2021-04-01'],\n",
            "              dtype='datetime64[ns]', length=457, freq='D')\n"
          ]
        }
      ],
      "source": [
        "# a =\n",
        "import pandas as pd\n",
        "a = pd.date_range(start='2020-01-01', end='2021-04-01')\n",
        "\n",
        "\n"
      ],
      "id": "Nvx8f5GTmYBZ"
    },
    {
      "cell_type": "markdown",
      "metadata": {
        "id": "ybvAMVSzmYBZ"
      },
      "source": [
        "print a"
      ],
      "id": "ybvAMVSzmYBZ"
    },
    {
      "cell_type": "code",
      "execution_count": null,
      "metadata": {
        "id": "TOe-Alj8mYBZ",
        "colab": {
          "base_uri": "https://localhost:8080/"
        },
        "outputId": "dacccf9f-5bc5-475e-f565-217c62782fcc"
      },
      "outputs": [
        {
          "output_type": "stream",
          "name": "stdout",
          "text": [
            "DatetimeIndex(['2020-01-01', '2020-01-02', '2020-01-03', '2020-01-04',\n",
            "               '2020-01-05', '2020-01-06', '2020-01-07', '2020-01-08',\n",
            "               '2020-01-09', '2020-01-10',\n",
            "               ...\n",
            "               '2021-03-23', '2021-03-24', '2021-03-25', '2021-03-26',\n",
            "               '2021-03-27', '2021-03-28', '2021-03-29', '2021-03-30',\n",
            "               '2021-03-31', '2021-04-01'],\n",
            "              dtype='datetime64[ns]', length=457, freq='D')\n"
          ]
        }
      ],
      "source": [
        "print(a)\n",
        "\n"
      ],
      "id": "TOe-Alj8mYBZ"
    },
    {
      "cell_type": "markdown",
      "metadata": {
        "id": "vI1gctGmmYBZ"
      },
      "source": [
        "What is the len of a?"
      ],
      "id": "vI1gctGmmYBZ"
    },
    {
      "cell_type": "code",
      "execution_count": null,
      "metadata": {
        "id": "D66uR7vDmYBZ",
        "colab": {
          "base_uri": "https://localhost:8080/"
        },
        "outputId": "ba0333c5-6d53-4d9a-a009-8a9cd4d4cd4f"
      },
      "outputs": [
        {
          "output_type": "stream",
          "name": "stdout",
          "text": [
            "457\n"
          ]
        }
      ],
      "source": [
        "print(len(a))\n",
        "\n"
      ],
      "id": "D66uR7vDmYBZ"
    },
    {
      "cell_type": "markdown",
      "metadata": {
        "id": "MQvcL-SImYBZ"
      },
      "source": [
        "What is the type of a?"
      ],
      "id": "MQvcL-SImYBZ"
    },
    {
      "cell_type": "code",
      "execution_count": null,
      "metadata": {
        "id": "cnb8Z0CXmYBZ",
        "colab": {
          "base_uri": "https://localhost:8080/"
        },
        "outputId": "ed49ab8f-3f50-4861-9134-d0bc7bed17c5"
      },
      "outputs": [
        {
          "output_type": "stream",
          "name": "stdout",
          "text": [
            "<class 'pandas.core.indexes.datetimes.DatetimeIndex'>\n"
          ]
        }
      ],
      "source": [
        "print(type(a))\n",
        "\n",
        "\n"
      ],
      "id": "cnb8Z0CXmYBZ"
    }
  ],
  "metadata": {
    "colab": {
      "provenance": [],
      "include_colab_link": true
    },
    "kernelspec": {
      "display_name": "Python 3",
      "language": "python",
      "name": "python3"
    },
    "language_info": {
      "codemirror_mode": {
        "name": "ipython",
        "version": 3
      },
      "file_extension": ".py",
      "mimetype": "text/x-python",
      "name": "python",
      "nbconvert_exporter": "python",
      "pygments_lexer": "ipython3",
      "version": "3.7.4"
    }
  },
  "nbformat": 4,
  "nbformat_minor": 5
}