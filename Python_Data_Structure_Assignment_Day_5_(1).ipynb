{
  "cells": [
    {
      "cell_type": "markdown",
      "metadata": {
        "id": "view-in-github",
        "colab_type": "text"
      },
      "source": [
        "<a href=\"https://colab.research.google.com/github/Priyankakannan96/Priyanka-K/blob/main/Python_Data_Structure_Assignment_Day_5_(1).ipynb\" target=\"_parent\"><img src=\"https://colab.research.google.com/assets/colab-badge.svg\" alt=\"Open In Colab\"/></a>"
      ]
    },
    {
      "cell_type": "markdown",
      "metadata": {
        "id": "jGxqF4aIjNSq"
      },
      "source": [
        "<a id='1'></a><center> <h3 style=\"background-color:orange; color:white\" ><br>Python Data Structures<br></h3>"
      ],
      "id": "jGxqF4aIjNSq"
    },
    {
      "cell_type": "markdown",
      "metadata": {
        "id": "rup0qnn6o5tF"
      },
      "source": [
        "# `Types of Data Structures:`\n",
        "* `List` | `Tuple`\n",
        "* `Set` | `Dictionary`"
      ],
      "id": "rup0qnn6o5tF"
    },
    {
      "cell_type": "markdown",
      "metadata": {
        "id": "babWXIQvo5tG"
      },
      "source": [
        "|Data Structures type|Mutable|Comments|Indexing|Ordered|Duplicacy|\n",
        "|----|----|----|----|----|----|\n",
        "tuple ()|immutable|immutable version of list| possible|yes |allowed |\n",
        "list []|mutable|-|possible |yes | allowed |\n",
        "set {}|mutable| -|not |no |not |\n",
        "dict {key:value}|mutable|-|possible |no |not  |"
      ],
      "id": "babWXIQvo5tG"
    },
    {
      "cell_type": "markdown",
      "source": [],
      "metadata": {
        "id": "MY1AUXL1ivqO"
      },
      "id": "MY1AUXL1ivqO"
    },
    {
      "cell_type": "markdown",
      "metadata": {
        "id": "aGZhkB4Yo5tI"
      },
      "source": [
        "💫 `immutable` => `can't be changed` <br>\n",
        "💫 `mutable` => `can be changed`"
      ],
      "id": "aGZhkB4Yo5tI"
    },
    {
      "cell_type": "code",
      "execution_count": null,
      "metadata": {
        "id": "oAM9732Wo5tJ"
      },
      "outputs": [],
      "source": [],
      "id": "oAM9732Wo5tJ"
    },
    {
      "cell_type": "markdown",
      "metadata": {
        "id": "Tyavi31ZjNSw"
      },
      "source": [
        "## Lists\n",
        "\n"
      ],
      "id": "Tyavi31ZjNSw"
    },
    {
      "cell_type": "markdown",
      "metadata": {
        "id": "tkDQdRdUjNSy"
      },
      "source": [
        "### Create an empty list with the name ‘a’, print the value of a and type(a).\n"
      ],
      "id": "tkDQdRdUjNSy"
    },
    {
      "cell_type": "code",
      "execution_count": null,
      "metadata": {
        "id": "a6i4yNGvjNSz"
      },
      "outputs": [],
      "source": [
        "# create empty list, name it 'a'\n",
        "a = (\"apple\", \"banana\", \"cherry\")"
      ],
      "id": "a6i4yNGvjNSz"
    },
    {
      "cell_type": "code",
      "execution_count": null,
      "metadata": {
        "id": "M8FMNQEgjNS0",
        "colab": {
          "base_uri": "https://localhost:8080/"
        },
        "outputId": "45429b7a-8310-4e17-8cd4-455686881a3f"
      },
      "outputs": [
        {
          "output_type": "stream",
          "name": "stdout",
          "text": [
            "('apple', 'banana', 'cherry')\n"
          ]
        }
      ],
      "source": [
        "# print the value of a\n",
        "print(a)"
      ],
      "id": "M8FMNQEgjNS0"
    },
    {
      "cell_type": "code",
      "execution_count": null,
      "metadata": {
        "id": "Jfc9sg1vjNS1",
        "colab": {
          "base_uri": "https://localhost:8080/"
        },
        "outputId": "af4ff66b-9de9-4ed8-cf03-886601c7e02e"
      },
      "outputs": [
        {
          "output_type": "stream",
          "name": "stdout",
          "text": [
            "<class 'tuple'>\n"
          ]
        }
      ],
      "source": [
        "# print the type of a\n",
        "print(type(a))"
      ],
      "id": "Jfc9sg1vjNS1"
    },
    {
      "cell_type": "markdown",
      "metadata": {
        "id": "UNpN9_w4jNS1"
      },
      "source": [
        "### Create a list , languages = ['R','Python', 'SAS', 'Scala', 42],"
      ],
      "id": "UNpN9_w4jNS1"
    },
    {
      "cell_type": "code",
      "execution_count": null,
      "metadata": {
        "id": "x-TG-vc5jNS2"
      },
      "outputs": [],
      "source": [
        "a=('R', 'Python', 'SAS', 'Scala', 42)"
      ],
      "id": "x-TG-vc5jNS2"
    },
    {
      "cell_type": "markdown",
      "metadata": {
        "id": "JDSIK8TbjNS3"
      },
      "source": [
        "Print the number of elements in the list"
      ],
      "id": "JDSIK8TbjNS3"
    },
    {
      "cell_type": "code",
      "execution_count": null,
      "metadata": {
        "id": "C4lBMaM8jNS3",
        "colab": {
          "base_uri": "https://localhost:8080/"
        },
        "outputId": "9d35fd30-1c59-49a7-c0c4-bf3ea9bb4c45"
      },
      "outputs": [
        {
          "output_type": "stream",
          "name": "stdout",
          "text": [
            "5\n"
          ]
        }
      ],
      "source": [
        "from typing import Text\n",
        "print(len(a))\n"
      ],
      "id": "C4lBMaM8jNS3"
    },
    {
      "cell_type": "markdown",
      "metadata": {
        "id": "EyzO_pcnjNS3"
      },
      "source": [
        "Using for loop iterate and print all the elements in the list"
      ],
      "id": "EyzO_pcnjNS3"
    },
    {
      "cell_type": "code",
      "execution_count": null,
      "metadata": {
        "id": "TyM54ydsjNS4",
        "colab": {
          "base_uri": "https://localhost:8080/"
        },
        "outputId": "bda2c727-c660-496e-ad88-a1dd6f663be1"
      },
      "outputs": [
        {
          "output_type": "stream",
          "name": "stdout",
          "text": [
            "('R', 'Python', 'SAS', 'Scala', 42)\n"
          ]
        }
      ],
      "source": [
        "print(a)\n",
        "\n"
      ],
      "id": "TyM54ydsjNS4"
    },
    {
      "cell_type": "markdown",
      "metadata": {
        "id": "eC1fqz9LjNS4"
      },
      "source": [
        "Select the second item, 'Python' and store it in a new variable named 'temp'"
      ],
      "id": "eC1fqz9LjNS4"
    },
    {
      "cell_type": "code",
      "execution_count": null,
      "metadata": {
        "id": "KY0KhRlOjNS4",
        "collapsed": true
      },
      "outputs": [],
      "source": [
        "temp =a[1]\n"
      ],
      "id": "KY0KhRlOjNS4"
    },
    {
      "cell_type": "markdown",
      "metadata": {
        "id": "breORMa_jNS4"
      },
      "source": [
        "Print the value of temp and type(temp)"
      ],
      "id": "breORMa_jNS4"
    },
    {
      "cell_type": "code",
      "execution_count": null,
      "metadata": {
        "id": "MbvX2aIgjNS5",
        "colab": {
          "base_uri": "https://localhost:8080/"
        },
        "outputId": "bee4c86a-00b5-42de-991b-dc769928847c"
      },
      "outputs": [
        {
          "output_type": "stream",
          "name": "stdout",
          "text": [
            "Python\n"
          ]
        }
      ],
      "source": [
        "print(temp)\n",
        "\n"
      ],
      "id": "MbvX2aIgjNS5"
    },
    {
      "cell_type": "markdown",
      "metadata": {
        "id": "I4MrKlAUjNS5"
      },
      "source": [
        "Append the element 'Java' in the list"
      ],
      "id": "I4MrKlAUjNS5"
    },
    {
      "cell_type": "code",
      "execution_count": null,
      "metadata": {
        "id": "rOtqZY6PjNS6",
        "colab": {
          "base_uri": "https://localhost:8080/"
        },
        "outputId": "865de150-692f-4743-a25d-238ac4ad2efa"
      },
      "outputs": [
        {
          "output_type": "stream",
          "name": "stdout",
          "text": [
            "['R', 'Python', 'SAS', 'Scala', 42, 'Java']\n"
          ]
        }
      ],
      "source": [
        "a= ['R', 'Python', 'SAS', 'Scala', 42]\n",
        "a.append('Java')\n",
        "print(a)\n",
        "\n"
      ],
      "id": "rOtqZY6PjNS6"
    },
    {
      "cell_type": "markdown",
      "metadata": {
        "id": "ksEn8qvFjNS6"
      },
      "source": [
        "Remove the element 42 from the list and print the list"
      ],
      "id": "ksEn8qvFjNS6"
    },
    {
      "cell_type": "code",
      "execution_count": null,
      "metadata": {
        "id": "Lxuzfc1bjNS6",
        "colab": {
          "base_uri": "https://localhost:8080/"
        },
        "outputId": "a0f1a688-9b26-4bf2-a2f0-21fb1c8ac651"
      },
      "outputs": [
        {
          "output_type": "stream",
          "name": "stdout",
          "text": [
            "['R', 'Python', 'SAS', 'Scala', 'Java']\n"
          ]
        }
      ],
      "source": [
        "a.remove(42)\n",
        "print(a)\n",
        "\n"
      ],
      "id": "Lxuzfc1bjNS6"
    },
    {
      "cell_type": "markdown",
      "metadata": {
        "id": "19MjI0w6jNS6"
      },
      "source": [
        "### Create a list, colors = [‘Red’, ‘Blue’, ‘White’]"
      ],
      "id": "19MjI0w6jNS6"
    },
    {
      "cell_type": "code",
      "execution_count": null,
      "metadata": {
        "id": "Z1lMzdbWjNS7",
        "colab": {
          "base_uri": "https://localhost:8080/"
        },
        "outputId": "facf1308-6f61-412a-c506-dc84ff09e520"
      },
      "outputs": [
        {
          "output_type": "stream",
          "name": "stdout",
          "text": [
            "['Red', 'Blue', 'White']\n"
          ]
        }
      ],
      "source": [
        "colors= ['Red','Blue','White']\n",
        "print(colors)"
      ],
      "id": "Z1lMzdbWjNS7"
    },
    {
      "cell_type": "markdown",
      "metadata": {
        "id": "VAqLj5R3jNS7"
      },
      "source": [
        "Append the element 'Black' to colors"
      ],
      "id": "VAqLj5R3jNS7"
    },
    {
      "cell_type": "code",
      "execution_count": null,
      "metadata": {
        "id": "gvb5iC7ljNS7",
        "colab": {
          "base_uri": "https://localhost:8080/"
        },
        "outputId": "1b167e34-5920-4dda-e7c7-e89a3d8a9730"
      },
      "outputs": [
        {
          "output_type": "stream",
          "name": "stdout",
          "text": [
            "['Red', 'Blue', 'White', 'Black']\n"
          ]
        }
      ],
      "source": [
        "colors.append('Black')\n",
        "print(colors)\n",
        "\n"
      ],
      "id": "gvb5iC7ljNS7"
    },
    {
      "cell_type": "markdown",
      "metadata": {
        "id": "MFWIzVcvjNS7"
      },
      "source": [
        "Append the color 'Orange' to second position (index=1) and print the list"
      ],
      "id": "MFWIzVcvjNS7"
    },
    {
      "cell_type": "code",
      "execution_count": null,
      "metadata": {
        "id": "Fb6YZDSNjNS8",
        "colab": {
          "base_uri": "https://localhost:8080/"
        },
        "outputId": "8d828738-d367-4510-fb4d-14f3e039aead"
      },
      "outputs": [
        {
          "output_type": "stream",
          "name": "stdout",
          "text": [
            "['Red', 'orange', 'Blue', 'White']\n"
          ]
        }
      ],
      "source": [
        "colors= ['Red','Blue','White']\n",
        "colors.insert(1,'orange')\n",
        "print(colors)\n",
        "\n"
      ],
      "id": "Fb6YZDSNjNS8"
    },
    {
      "cell_type": "markdown",
      "metadata": {
        "id": "8DWB76AOjNS8"
      },
      "source": [
        "Print the list\n"
      ],
      "id": "8DWB76AOjNS8"
    },
    {
      "cell_type": "code",
      "execution_count": null,
      "metadata": {
        "id": "0ldkGCozjNS8",
        "colab": {
          "base_uri": "https://localhost:8080/"
        },
        "outputId": "81531027-5e42-4d4f-c12e-9163ec83e4a3"
      },
      "outputs": [
        {
          "output_type": "stream",
          "name": "stdout",
          "text": [
            "['Red', 'orange', 'Blue', 'White']\n"
          ]
        }
      ],
      "source": [
        "colors= ['Red','orange','Blue','White']\n",
        "print(colors)"
      ],
      "id": "0ldkGCozjNS8"
    },
    {
      "cell_type": "markdown",
      "metadata": {
        "id": "WfFfxvLKjNS8"
      },
      "source": [
        "Create another list, colors2 = [‘Grey’, ‘Sky Blue’]"
      ],
      "id": "WfFfxvLKjNS8"
    },
    {
      "cell_type": "code",
      "execution_count": null,
      "metadata": {
        "id": "onZEiwdUjNS8",
        "colab": {
          "base_uri": "https://localhost:8080/"
        },
        "outputId": "b3941d5b-9e2d-4016-a808-aac16cfe873d"
      },
      "outputs": [
        {
          "output_type": "stream",
          "name": "stdout",
          "text": [
            "['Grey', 'Sky Blue']\n"
          ]
        }
      ],
      "source": [
        "colors2= ['Grey','Sky Blue']\n",
        "print(colors2)"
      ],
      "id": "onZEiwdUjNS8"
    },
    {
      "cell_type": "markdown",
      "metadata": {
        "id": "MrNQk6uKjNS8"
      },
      "source": [
        "Add the elements of colors2 to colors using extend function in the list"
      ],
      "id": "MrNQk6uKjNS8"
    },
    {
      "cell_type": "code",
      "execution_count": null,
      "metadata": {
        "id": "Hr1Eu88OjNS9",
        "colab": {
          "base_uri": "https://localhost:8080/"
        },
        "outputId": "3a09db44-6030-4fa9-ee3c-110bf9ffc99f"
      },
      "outputs": [
        {
          "output_type": "stream",
          "name": "stdout",
          "text": [
            "['Red', 'orange', 'Blue', 'White', 'Grey', 'Sky Blue']\n"
          ]
        }
      ],
      "source": [
        "colors.extend(colors2)\n",
        "print(colors)"
      ],
      "id": "Hr1Eu88OjNS9"
    },
    {
      "cell_type": "markdown",
      "metadata": {
        "id": "u0KDeU20jNS9"
      },
      "source": [
        "Print len of colors and its elements"
      ],
      "id": "u0KDeU20jNS9"
    },
    {
      "cell_type": "code",
      "execution_count": null,
      "metadata": {
        "id": "bnBmsCg2jNS9",
        "colab": {
          "base_uri": "https://localhost:8080/"
        },
        "outputId": "c75dacab-8a42-42f3-8df8-1e7561d4c702"
      },
      "outputs": [
        {
          "output_type": "stream",
          "name": "stdout",
          "text": [
            "6\n",
            "['Red', 'orange', 'Blue', 'White', 'Grey', 'Sky Blue']\n"
          ]
        }
      ],
      "source": [
        "print(len(colors))\n",
        "print (colors)\n",
        "\n"
      ],
      "id": "bnBmsCg2jNS9"
    },
    {
      "cell_type": "markdown",
      "metadata": {
        "id": "vJ7YqokSjNS9"
      },
      "source": [
        "Sort the list and print it."
      ],
      "id": "vJ7YqokSjNS9"
    },
    {
      "cell_type": "code",
      "execution_count": null,
      "metadata": {
        "id": "X14C-1PtjNS9",
        "colab": {
          "base_uri": "https://localhost:8080/"
        },
        "outputId": "79862ec3-682d-4013-a4c6-7bdb8fd84c54"
      },
      "outputs": [
        {
          "output_type": "stream",
          "name": "stdout",
          "text": [
            "['Blue', 'Grey', 'Red', 'Sky Blue', 'White', 'orange']\n"
          ]
        }
      ],
      "source": [
        "colors.sort()\n",
        "print(colors)\n",
        "\n"
      ],
      "id": "X14C-1PtjNS9"
    },
    {
      "cell_type": "markdown",
      "metadata": {
        "id": "MdN5B9F9jNS-"
      },
      "source": [
        "### Create a string, sent = ‘Coronavirus Caused Lockdowns Around The World.”"
      ],
      "id": "MdN5B9F9jNS-"
    },
    {
      "cell_type": "code",
      "execution_count": null,
      "metadata": {
        "id": "j4JUR085jNS-",
        "colab": {
          "base_uri": "https://localhost:8080/"
        },
        "outputId": "5c18cf4f-9778-4cba-83b3-a300497122d6"
      },
      "outputs": [
        {
          "output_type": "stream",
          "name": "stdout",
          "text": [
            "coronovirus caused lockdowns around the world\n"
          ]
        }
      ],
      "source": [
        "sent= 'coronovirus caused lockdowns around the world'\n",
        "print(sent)"
      ],
      "id": "j4JUR085jNS-"
    },
    {
      "cell_type": "markdown",
      "metadata": {
        "id": "rcn18drOjNS-"
      },
      "source": [
        "Use split function to convert the string into a list of words and save it in variable words and print the same"
      ],
      "id": "rcn18drOjNS-"
    },
    {
      "cell_type": "code",
      "execution_count": null,
      "metadata": {
        "id": "fjiKSboajNS-",
        "colab": {
          "base_uri": "https://localhost:8080/"
        },
        "outputId": "1f87537d-f96a-4922-d782-e84af66ba3d1"
      },
      "outputs": [
        {
          "output_type": "stream",
          "name": "stdout",
          "text": [
            "['coronovirus', 'caused', 'lockdowns', 'around', 'the', 'world']\n"
          ]
        }
      ],
      "source": [
        "words=sent.split()\n",
        "print(words)\n",
        "\n"
      ],
      "id": "fjiKSboajNS-"
    },
    {
      "cell_type": "markdown",
      "metadata": {
        "id": "rowxhN26jNS_"
      },
      "source": [
        "Convert each word in the list to lower case and store it in variable words_lower.\n",
        "Print words_lower"
      ],
      "id": "rowxhN26jNS_"
    },
    {
      "cell_type": "code",
      "execution_count": null,
      "metadata": {
        "id": "LuzAECOVjNS_",
        "colab": {
          "base_uri": "https://localhost:8080/"
        },
        "outputId": "2d10250c-f74b-407c-f934-4b7387612847"
      },
      "outputs": [
        {
          "output_type": "stream",
          "name": "stdout",
          "text": [
            "coronovirus caused lockdowns around the world\n"
          ]
        }
      ],
      "source": [
        "words_lower=sent.lower()\n",
        "print(words_lower)\n",
        "\n"
      ],
      "id": "LuzAECOVjNS_"
    },
    {
      "cell_type": "markdown",
      "metadata": {
        "id": "zznwP-l9jNS_"
      },
      "source": [
        "Check whether ‘country’ is in the list"
      ],
      "id": "zznwP-l9jNS_"
    },
    {
      "cell_type": "code",
      "execution_count": null,
      "metadata": {
        "id": "y-U1felnjNS_",
        "colab": {
          "base_uri": "https://localhost:8080/"
        },
        "outputId": "64a618d2-9ec0-429b-b0d1-6ccd2cb3d3ff"
      },
      "outputs": [
        {
          "output_type": "stream",
          "name": "stdout",
          "text": [
            "-1\n"
          ]
        }
      ],
      "source": [
        "words_lower= sent.find('country')\n",
        "print(words_lower)\n"
      ],
      "id": "y-U1felnjNS_"
    },
    {
      "cell_type": "markdown",
      "metadata": {
        "id": "AZMvSVKWjNS_"
      },
      "source": [
        "Remove the element ‘the’ from the list and print the list."
      ],
      "id": "AZMvSVKWjNS_"
    },
    {
      "cell_type": "code",
      "execution_count": null,
      "metadata": {
        "id": "bmDbpYd7jNS_",
        "colab": {
          "base_uri": "https://localhost:8080/"
        },
        "outputId": "da21961e-33e5-4626-f3e1-b4bf84b9e130"
      },
      "outputs": [
        {
          "output_type": "stream",
          "name": "stdout",
          "text": [
            "coronovirus caused lockdowns around  world\n"
          ]
        }
      ],
      "source": [
        "sent='coronovirus caused lockdowns around the world'\n",
        "sent=sent.replace('the','')\n",
        "print(sent)\n",
        "\n"
      ],
      "id": "bmDbpYd7jNS_"
    },
    {
      "cell_type": "markdown",
      "metadata": {
        "id": "int3gJc0jNS_"
      },
      "source": [
        "Select the first 4 words from the list words_lower using slicing and store them in a new variable x4"
      ],
      "id": "int3gJc0jNS_"
    },
    {
      "cell_type": "code",
      "execution_count": null,
      "metadata": {
        "id": "fXOJmYI1jNTA",
        "colab": {
          "base_uri": "https://localhost:8080/"
        },
        "outputId": "69f35466-3360-428d-d185-8adb8f2c2573"
      },
      "outputs": [
        {
          "output_type": "stream",
          "name": "stdout",
          "text": [
            "['coronovirus', 'caused', 'lockdowns', 'around']\n"
          ]
        }
      ],
      "source": [
        "words_lower=sent.split()\n",
        "x4=words_lower[0:4]\n",
        "print(x4)"
      ],
      "id": "fXOJmYI1jNTA"
    },
    {
      "cell_type": "code",
      "execution_count": null,
      "metadata": {
        "id": "2Kb_1V9HjNTA",
        "colab": {
          "base_uri": "https://localhost:8080/"
        },
        "outputId": "442268cb-8d63-4c9a-f8ce-a1b8144556a4"
      },
      "outputs": [
        {
          "output_type": "stream",
          "name": "stdout",
          "text": [
            "['coronovirus', 'caused', 'lockdowns', 'around']\n"
          ]
        }
      ],
      "source": [
        "# print x4\n",
        "print(x4)\n"
      ],
      "id": "2Kb_1V9HjNTA"
    },
    {
      "cell_type": "markdown",
      "metadata": {
        "id": "3HgP3nUmjNTA"
      },
      "source": [
        "Convert the list of elements to single string using join function and print it"
      ],
      "id": "3HgP3nUmjNTA"
    },
    {
      "cell_type": "code",
      "execution_count": null,
      "metadata": {
        "id": "hiXO7ekhjNTA",
        "colab": {
          "base_uri": "https://localhost:8080/"
        },
        "outputId": "0f220f8a-4f60-486c-b29e-2dd6f47579c2"
      },
      "outputs": [
        {
          "output_type": "stream",
          "name": "stdout",
          "text": [
            "coronoviruscausedlockdownsaround\n"
          ]
        }
      ],
      "source": [
        "joined =\"\".join (x4)\n",
        "print(joined)\n"
      ],
      "id": "hiXO7ekhjNTA"
    },
    {
      "cell_type": "markdown",
      "metadata": {
        "id": "tW6We_kvjNTA"
      },
      "source": [
        "## Sets"
      ],
      "id": "tW6We_kvjNTA"
    },
    {
      "cell_type": "markdown",
      "metadata": {
        "id": "02qkte5xjNTA"
      },
      "source": [
        "### Create stud_grades = ['A','A','B','C','C','F']"
      ],
      "id": "02qkte5xjNTA"
    },
    {
      "cell_type": "code",
      "execution_count": null,
      "metadata": {
        "id": "M5P_qZaTjNTB",
        "colab": {
          "base_uri": "https://localhost:8080/"
        },
        "outputId": "db9ac938-3122-410b-f6b5-0a3863fe738d"
      },
      "outputs": [
        {
          "output_type": "stream",
          "name": "stdout",
          "text": [
            "['A', 'A', 'B', 'C', 'C', 'F']\n"
          ]
        }
      ],
      "source": [
        "stud_grades= ['A','A','B','C','C','F']\n",
        "print (stud_grades)"
      ],
      "id": "M5P_qZaTjNTB"
    },
    {
      "cell_type": "markdown",
      "metadata": {
        "id": "XazCnMcBjNTB"
      },
      "source": [
        "Print the len of stud_grades"
      ],
      "id": "XazCnMcBjNTB"
    },
    {
      "cell_type": "code",
      "execution_count": null,
      "metadata": {
        "id": "gMMJN-V5jNTB",
        "colab": {
          "base_uri": "https://localhost:8080/"
        },
        "outputId": "a6d91803-084b-4c1c-9194-9c37d177474c"
      },
      "outputs": [
        {
          "output_type": "stream",
          "name": "stdout",
          "text": [
            "6\n"
          ]
        }
      ],
      "source": [
        "print (len(stud_grades))\n",
        "\n"
      ],
      "id": "gMMJN-V5jNTB"
    },
    {
      "cell_type": "markdown",
      "metadata": {
        "id": "ALm7hstGjNTB"
      },
      "source": [
        "Create a new variable, stud_grades_set = set(stud_grades)"
      ],
      "id": "ALm7hstGjNTB"
    },
    {
      "cell_type": "code",
      "execution_count": null,
      "metadata": {
        "id": "1Jf1YZjfo5tm",
        "colab": {
          "base_uri": "https://localhost:8080/"
        },
        "outputId": "b6385db4-6bd8-4ddb-f9e8-8802d5ab1600"
      },
      "outputs": [
        {
          "output_type": "stream",
          "name": "stdout",
          "text": [
            "{'C', 'A', 'B', 'F'}\n"
          ]
        }
      ],
      "source": [
        "stud_grades_set = set(stud_grades)\n",
        "print(stud_grades_set)"
      ],
      "id": "1Jf1YZjfo5tm"
    },
    {
      "cell_type": "markdown",
      "metadata": {
        "id": "JJESkQiJjNTB"
      },
      "source": [
        "Print stud_grades_set."
      ],
      "id": "JJESkQiJjNTB"
    },
    {
      "cell_type": "code",
      "execution_count": null,
      "metadata": {
        "id": "Q-daiiLPjNTB",
        "colab": {
          "base_uri": "https://localhost:8080/"
        },
        "outputId": "c0d4a30a-6fbf-477b-9aff-9d05992cf740"
      },
      "outputs": [
        {
          "output_type": "stream",
          "name": "stdout",
          "text": [
            "{'C', 'A', 'B', 'F'}\n"
          ]
        }
      ],
      "source": [
        "print (stud_grades_set)\n",
        "\n"
      ],
      "id": "Q-daiiLPjNTB"
    },
    {
      "cell_type": "markdown",
      "metadata": {
        "id": "hNeCPwPOjNTC"
      },
      "source": [
        "print the type of stud_grades and stud_grades_set and print their corresponding elements. Try to understand the difference between them."
      ],
      "id": "hNeCPwPOjNTC"
    },
    {
      "cell_type": "code",
      "execution_count": null,
      "metadata": {
        "id": "g7cntC0ojNTC",
        "colab": {
          "base_uri": "https://localhost:8080/"
        },
        "outputId": "47dc160b-1032-4857-82e5-1d96fc0e1f3a"
      },
      "outputs": [
        {
          "output_type": "stream",
          "name": "stdout",
          "text": [
            "<class 'list'>\n",
            "<class 'set'>\n"
          ]
        }
      ],
      "source": [
        "stud_grades= ['A','A','B','C','C','F']\n",
        "stud_grades_set = set(stud_grades)\n",
        "print(type(stud_grades))\n",
        "print(type(stud_grades_set))\n",
        "\n",
        "\n"
      ],
      "id": "g7cntC0ojNTC"
    },
    {
      "cell_type": "markdown",
      "metadata": {
        "id": "WjzzJX8yjNTC"
      },
      "source": [
        "Add a new element ‘G’ to stud_grades_set"
      ],
      "id": "WjzzJX8yjNTC"
    },
    {
      "cell_type": "code",
      "execution_count": null,
      "metadata": {
        "id": "y80DVAlRjNTC",
        "colab": {
          "base_uri": "https://localhost:8080/"
        },
        "outputId": "77b7c9b2-d586-4587-ff4d-141659afdab3"
      },
      "outputs": [
        {
          "output_type": "stream",
          "name": "stdout",
          "text": [
            "{'C', 'B', 'F', 'G', 'A'}\n"
          ]
        }
      ],
      "source": [
        "stud_grades_set.add('G')\n",
        "print (stud_grades_set)\n"
      ],
      "id": "y80DVAlRjNTC"
    },
    {
      "cell_type": "markdown",
      "metadata": {
        "id": "4TO9zhSJjNTC"
      },
      "source": [
        "Add element 'F' to stud_grades_set. and print it."
      ],
      "id": "4TO9zhSJjNTC"
    },
    {
      "cell_type": "code",
      "execution_count": null,
      "metadata": {
        "id": "Bh4tc1zCjNTC",
        "colab": {
          "base_uri": "https://localhost:8080/"
        },
        "outputId": "39e6c25e-ff4a-4b53-bb40-2997ebceec1e"
      },
      "outputs": [
        {
          "output_type": "stream",
          "name": "stdout",
          "text": [
            "{'C', 'B', 'F', 'G', 'A'}\n"
          ]
        }
      ],
      "source": [
        "stud_grades_set.add('F')\n",
        "print (stud_grades_set)\n",
        "\n"
      ],
      "id": "Bh4tc1zCjNTC"
    },
    {
      "cell_type": "markdown",
      "metadata": {
        "id": "FSgM3DD5jNTD"
      },
      "source": [
        "!!Did you notice? set doesn't add an element if it's already present in it, unlike lists."
      ],
      "id": "FSgM3DD5jNTD"
    },
    {
      "cell_type": "markdown",
      "metadata": {
        "id": "tqz1GBM5jNTD"
      },
      "source": [
        "Remove ‘F’ from stud_grades_set"
      ],
      "id": "tqz1GBM5jNTD"
    },
    {
      "cell_type": "code",
      "execution_count": null,
      "metadata": {
        "id": "zOLBDdk0jNTD",
        "colab": {
          "base_uri": "https://localhost:8080/"
        },
        "outputId": "bb46cd60-9fbb-4f4b-902d-ed2281e111ed"
      },
      "outputs": [
        {
          "output_type": "stream",
          "name": "stdout",
          "text": [
            "{'C', 'B', 'G', 'A'}\n"
          ]
        }
      ],
      "source": [
        "stud_grades_set.remove('F')\n",
        "print (stud_grades_set)\n",
        "\n"
      ],
      "id": "zOLBDdk0jNTD"
    },
    {
      "cell_type": "markdown",
      "metadata": {
        "id": "wxMXywoRjNTD"
      },
      "source": [
        "Print the elements and the length of stud_grades_set"
      ],
      "id": "wxMXywoRjNTD"
    },
    {
      "cell_type": "code",
      "execution_count": null,
      "metadata": {
        "id": "lS582g27jNTD",
        "colab": {
          "base_uri": "https://localhost:8080/"
        },
        "outputId": "cc04e4de-796d-4780-88a4-d347488f2874"
      },
      "outputs": [
        {
          "output_type": "stream",
          "name": "stdout",
          "text": [
            "{'C', 'B', 'G', 'A'}\n",
            "4\n"
          ]
        }
      ],
      "source": [
        "print(stud_grades_set)\n",
        "\n",
        "print(len(stud_grades_set))\n",
        "\n",
        "\n"
      ],
      "id": "lS582g27jNTD"
    },
    {
      "cell_type": "markdown",
      "metadata": {
        "id": "FctCYkNBjNTD"
      },
      "source": [
        "### Create colors = [‘red’,’blue’,’orange’], and fruits = [‘orange’,’grapes’,’apples’]"
      ],
      "id": "FctCYkNBjNTD"
    },
    {
      "cell_type": "code",
      "execution_count": null,
      "metadata": {
        "id": "dLh8H_Dbo5ts"
      },
      "outputs": [],
      "source": [
        "colors = ['red','blue','orange']\n",
        "fruits = ['orange','grapes','apples']"
      ],
      "id": "dLh8H_Dbo5ts"
    },
    {
      "cell_type": "markdown",
      "metadata": {
        "id": "kfIRtvphjNTE"
      },
      "source": [
        "Print color and fruits"
      ],
      "id": "kfIRtvphjNTE"
    },
    {
      "cell_type": "code",
      "execution_count": null,
      "metadata": {
        "id": "q-gavK0-jNTE",
        "colab": {
          "base_uri": "https://localhost:8080/"
        },
        "outputId": "61cf9b58-23f4-40f2-a666-5090d6af5db8"
      },
      "outputs": [
        {
          "output_type": "stream",
          "name": "stdout",
          "text": [
            "['red', 'blue', 'orange'] ['orange', 'grapes', 'apples']\n"
          ]
        }
      ],
      "source": [
        "print(colors, fruits)\n"
      ],
      "id": "q-gavK0-jNTE"
    },
    {
      "cell_type": "markdown",
      "metadata": {
        "id": "uMOTrWwSjNTE"
      },
      "source": [
        "Create colors_set, and fruits_set. (using set() ) and print them"
      ],
      "id": "uMOTrWwSjNTE"
    },
    {
      "cell_type": "code",
      "execution_count": null,
      "metadata": {
        "id": "NEmtk1RDo5tu",
        "colab": {
          "base_uri": "https://localhost:8080/"
        },
        "outputId": "787ef0ef-d850-46f7-84af-e1eb684f4e38"
      },
      "outputs": [
        {
          "output_type": "stream",
          "name": "stdout",
          "text": [
            "{'orange', 'blue', 'red'} {'apples', 'orange', 'grapes'}\n"
          ]
        }
      ],
      "source": [
        "colors_set=set(colors)\n",
        "fruits_set=set(fruits)\n",
        "print(colors_set, fruits_set)"
      ],
      "id": "NEmtk1RDo5tu"
    },
    {
      "cell_type": "markdown",
      "metadata": {
        "id": "tW9fj0R1jNTE"
      },
      "source": [
        "Find the union of both the sets."
      ],
      "id": "tW9fj0R1jNTE"
    },
    {
      "cell_type": "code",
      "execution_count": null,
      "metadata": {
        "id": "oyskI_CTjNTE",
        "colab": {
          "base_uri": "https://localhost:8080/"
        },
        "outputId": "f2c90212-e08e-4f27-e4eb-57ef9999d9fa"
      },
      "outputs": [
        {
          "output_type": "stream",
          "name": "stdout",
          "text": [
            "{'apples', 'grapes', 'orange', 'blue', 'red'}\n"
          ]
        }
      ],
      "source": [
        "print(colors_set.union(fruits_set))\n",
        "\n"
      ],
      "id": "oyskI_CTjNTE"
    },
    {
      "cell_type": "markdown",
      "metadata": {
        "id": "3yXYgYBLjNTF"
      },
      "source": [
        "Find the intersection of both the sets"
      ],
      "id": "3yXYgYBLjNTF"
    },
    {
      "cell_type": "code",
      "execution_count": null,
      "metadata": {
        "id": "3AzYqu5sjNTF",
        "colab": {
          "base_uri": "https://localhost:8080/"
        },
        "outputId": "aebfeb5a-0c2f-4d19-fa66-0062fbd760ae"
      },
      "outputs": [
        {
          "output_type": "stream",
          "name": "stdout",
          "text": [
            "{'orange'}\n"
          ]
        }
      ],
      "source": [
        "print((colors_set.intersection(fruits_set)))\n",
        "\n"
      ],
      "id": "3AzYqu5sjNTF"
    },
    {
      "cell_type": "markdown",
      "metadata": {
        "id": "PuhlSjH_jNTF"
      },
      "source": [
        "Find the elements which are Fruits but not colors (using set.difference() )"
      ],
      "id": "PuhlSjH_jNTF"
    },
    {
      "cell_type": "code",
      "execution_count": null,
      "metadata": {
        "id": "gBaxHXrfjNTF",
        "colab": {
          "base_uri": "https://localhost:8080/"
        },
        "outputId": "91da68c1-9e43-4c46-9911-f74e01a4a85f"
      },
      "outputs": [
        {
          "output_type": "stream",
          "name": "stdout",
          "text": [
            "{'apples', 'grapes'}\n"
          ]
        }
      ],
      "source": [
        "\n",
        "print(((fruits_set.difference(colors_set))))\n"
      ],
      "id": "gBaxHXrfjNTF"
    },
    {
      "cell_type": "code",
      "execution_count": null,
      "metadata": {
        "id": "-UmWDJiYo5tv"
      },
      "outputs": [],
      "source": [],
      "id": "-UmWDJiYo5tv"
    },
    {
      "cell_type": "markdown",
      "metadata": {
        "id": "hLZeBta3jNTF"
      },
      "source": [
        "## TUPLES"
      ],
      "id": "hLZeBta3jNTF"
    },
    {
      "cell_type": "markdown",
      "metadata": {
        "id": "Nerhdg66jNTF"
      },
      "source": [
        "### Create temp = [17, ’Virat’, 50.0]"
      ],
      "id": "Nerhdg66jNTF"
    },
    {
      "cell_type": "code",
      "execution_count": null,
      "metadata": {
        "id": "Zmv7F1iNo5tx"
      },
      "outputs": [],
      "source": [
        "temp = [17, 'Virat', 50.0]\n"
      ],
      "id": "Zmv7F1iNo5tx"
    },
    {
      "cell_type": "markdown",
      "metadata": {
        "id": "C0IuMJFijNTG"
      },
      "source": [
        "Iterate through temp and print all the items in temp"
      ],
      "id": "C0IuMJFijNTG"
    },
    {
      "cell_type": "code",
      "execution_count": null,
      "metadata": {
        "id": "CSKY_cgHjNTG",
        "colab": {
          "base_uri": "https://localhost:8080/"
        },
        "outputId": "5faf16a5-7e74-4fe5-aa6a-46a89ceb9700"
      },
      "outputs": [
        {
          "output_type": "execute_result",
          "data": {
            "text/plain": [
              "(17, 'Virat', 50.0)"
            ]
          },
          "metadata": {},
          "execution_count": 90
        }
      ],
      "source": [
        "temp = [17, 'Virat', 50.0]\n",
        "tuple(temp)\n"
      ],
      "id": "CSKY_cgHjNTG"
    },
    {
      "cell_type": "markdown",
      "metadata": {
        "id": "gI0kBGQ1jNTG"
      },
      "source": [
        "replace first element with 11 in temp"
      ],
      "id": "gI0kBGQ1jNTG"
    },
    {
      "cell_type": "code",
      "execution_count": null,
      "metadata": {
        "id": "p6JCtyOBjNTG",
        "colab": {
          "base_uri": "https://localhost:8080/"
        },
        "outputId": "d1dbde77-00b3-4e3d-e3d8-96cf66f3a5bd"
      },
      "outputs": [
        {
          "output_type": "execute_result",
          "data": {
            "text/plain": [
              "(11, 'Virat', 50.0)"
            ]
          },
          "metadata": {},
          "execution_count": 94
        }
      ],
      "source": [
        "temp[0]=11\n",
        "tuple(temp)"
      ],
      "id": "p6JCtyOBjNTG"
    },
    {
      "cell_type": "markdown",
      "metadata": {
        "id": "JV3b34AdjNTG"
      },
      "source": [
        "Set temp1 = tuple(temp)"
      ],
      "id": "JV3b34AdjNTG"
    },
    {
      "cell_type": "code",
      "execution_count": null,
      "metadata": {
        "id": "zb6uH4-Go5t1",
        "colab": {
          "base_uri": "https://localhost:8080/"
        },
        "outputId": "df592524-bd9f-4d5d-d110-57da299d7760"
      },
      "outputs": [
        {
          "output_type": "execute_result",
          "data": {
            "text/plain": [
              "(11, 'Virat', 50.0)"
            ]
          },
          "metadata": {},
          "execution_count": 96
        }
      ],
      "source": [
        "temp1 =tuple(temp)\n",
        "tuple(temp1)"
      ],
      "id": "zb6uH4-Go5t1"
    },
    {
      "cell_type": "markdown",
      "metadata": {
        "id": "Z9LJWgBkjNTG"
      },
      "source": [
        "Iterate through temp1 and print all the items in temp1."
      ],
      "id": "Z9LJWgBkjNTG"
    },
    {
      "cell_type": "code",
      "execution_count": null,
      "metadata": {
        "id": "t0v-FZsNjNTH",
        "colab": {
          "base_uri": "https://localhost:8080/"
        },
        "outputId": "eb38a471-6122-4bc8-fdf3-42c47dce8e47"
      },
      "outputs": [
        {
          "output_type": "execute_result",
          "data": {
            "text/plain": [
              "(11, 'Virat', 50.0)"
            ]
          },
          "metadata": {},
          "execution_count": 97
        }
      ],
      "source": [
        "tuple(temp1)\n",
        "\n"
      ],
      "id": "t0v-FZsNjNTH"
    },
    {
      "cell_type": "markdown",
      "metadata": {
        "id": "A4FXMQDfjNTH"
      },
      "source": [
        "replace first element with 17 in temp1"
      ],
      "id": "A4FXMQDfjNTH"
    },
    {
      "cell_type": "code",
      "execution_count": null,
      "metadata": {
        "id": "eioDSdW8jNTH",
        "colab": {
          "base_uri": "https://localhost:8080/"
        },
        "outputId": "1f52b881-c9d5-4aba-9fe4-c43afe4b25c6"
      },
      "outputs": [
        {
          "output_type": "execute_result",
          "data": {
            "text/plain": [
              "(17, 'Virat', 50.0)"
            ]
          },
          "metadata": {},
          "execution_count": 114
        }
      ],
      "source": [
        "temp1 = (11, 'Virat', 50.0)\n",
        "new_temp1 = (17,) + temp1[1:]\n",
        "tuple(new_temp1)"
      ],
      "id": "eioDSdW8jNTH"
    },
    {
      "cell_type": "markdown",
      "metadata": {
        "id": "IuGIObFZjNTH"
      },
      "source": [
        "<b>Oops!! You got an error. Hey Don't worry! Its because Once a tuple is created, you cannot change its values unlike list.</b>"
      ],
      "id": "IuGIObFZjNTH"
    },
    {
      "cell_type": "markdown",
      "metadata": {
        "id": "ExB_cM1ZjNTH"
      },
      "source": [
        "### Create city = (\"Bangalore\", 28.9949521, 72)"
      ],
      "id": "ExB_cM1ZjNTH"
    },
    {
      "cell_type": "code",
      "execution_count": null,
      "metadata": {
        "id": "fWz52DjjjNTH",
        "colab": {
          "base_uri": "https://localhost:8080/"
        },
        "outputId": "3d7b3263-edcb-4673-9d74-28ac57deb53f"
      },
      "outputs": [
        {
          "output_type": "execute_result",
          "data": {
            "text/plain": [
              "('Bangalore', 28.9949521, 72)"
            ]
          },
          "metadata": {},
          "execution_count": 118
        }
      ],
      "source": [
        "city = (\"Bangalore\", 28.9949521, 72)\n",
        "tuple(city)"
      ],
      "id": "fWz52DjjjNTH"
    },
    {
      "cell_type": "markdown",
      "metadata": {
        "id": "v4ipyqXsjNTH"
      },
      "source": [
        "Print first element of city"
      ],
      "id": "v4ipyqXsjNTH"
    },
    {
      "cell_type": "code",
      "execution_count": null,
      "metadata": {
        "id": "KJHMuFk1jNTI",
        "colab": {
          "base_uri": "https://localhost:8080/"
        },
        "outputId": "3a3ba600-4205-40ce-b49f-6ae532a674a9"
      },
      "outputs": [
        {
          "output_type": "execute_result",
          "data": {
            "text/plain": [
              "('B', 'a', 'n', 'g', 'a', 'l', 'o', 'r', 'e')"
            ]
          },
          "metadata": {},
          "execution_count": 122
        }
      ],
      "source": [
        "tuple (city[0])"
      ],
      "id": "KJHMuFk1jNTI"
    },
    {
      "cell_type": "markdown",
      "metadata": {
        "id": "N5FoHg4ujNTI"
      },
      "source": [
        "Create city2 = (‘Chennai’, 30.01, 74)"
      ],
      "id": "N5FoHg4ujNTI"
    },
    {
      "cell_type": "code",
      "execution_count": null,
      "metadata": {
        "id": "fYuGqbDEjNTI",
        "colab": {
          "base_uri": "https://localhost:8080/"
        },
        "outputId": "b27b0edb-1840-4f39-aaaa-d9a79f531a07"
      },
      "outputs": [
        {
          "output_type": "execute_result",
          "data": {
            "text/plain": [
              "('Chennai', 30.01, 74)"
            ]
          },
          "metadata": {},
          "execution_count": 123
        }
      ],
      "source": [
        "city2 = ('Chennai', 30.01, 74)\n",
        "tuple (city2)\n"
      ],
      "id": "fYuGqbDEjNTI"
    },
    {
      "cell_type": "markdown",
      "metadata": {
        "id": "0gz-HACUjNTI"
      },
      "source": [
        "Create cities which consist of city and city2"
      ],
      "id": "0gz-HACUjNTI"
    },
    {
      "cell_type": "code",
      "execution_count": null,
      "metadata": {
        "id": "5dTN1LQPjNTI",
        "colab": {
          "base_uri": "https://localhost:8080/"
        },
        "outputId": "4fb03e04-2866-4432-aadc-bf86be74ce8f"
      },
      "outputs": [
        {
          "output_type": "execute_result",
          "data": {
            "text/plain": [
              "(('Bangalore', 28.9949521, 72), ('Chennai', 30.01, 74))"
            ]
          },
          "metadata": {},
          "execution_count": 124
        }
      ],
      "source": [
        "cities=(city,city2)\n",
        "tuple(cities)"
      ],
      "id": "5dTN1LQPjNTI"
    },
    {
      "cell_type": "markdown",
      "metadata": {
        "id": "He-teRi2jNTI"
      },
      "source": [
        "Print cities"
      ],
      "id": "He-teRi2jNTI"
    },
    {
      "cell_type": "code",
      "execution_count": null,
      "metadata": {
        "id": "ISySNfxGjNTI",
        "colab": {
          "base_uri": "https://localhost:8080/"
        },
        "outputId": "a277bd32-4eaf-4541-a794-edd0b48c7f49"
      },
      "outputs": [
        {
          "output_type": "execute_result",
          "data": {
            "text/plain": [
              "(('Bangalore', 28.9949521, 72), ('Chennai', 30.01, 74))"
            ]
          },
          "metadata": {},
          "execution_count": 127
        }
      ],
      "source": [
        "tuple(cities)"
      ],
      "id": "ISySNfxGjNTI"
    },
    {
      "cell_type": "markdown",
      "metadata": {
        "id": "brFx6-rtjNTJ"
      },
      "source": [
        "Print type of first element in cities"
      ],
      "id": "brFx6-rtjNTJ"
    },
    {
      "cell_type": "code",
      "execution_count": null,
      "metadata": {
        "id": "CmIifGybjNTJ",
        "colab": {
          "base_uri": "https://localhost:8080/"
        },
        "outputId": "5e7df5db-106e-4697-979a-5aa372727e6f"
      },
      "outputs": [
        {
          "output_type": "execute_result",
          "data": {
            "text/plain": [
              "('Bangalore', 28.9949521, 72)"
            ]
          },
          "metadata": {},
          "execution_count": 128
        }
      ],
      "source": [
        "tuple (cities[0])"
      ],
      "id": "CmIifGybjNTJ"
    },
    {
      "cell_type": "markdown",
      "metadata": {
        "id": "jtk8J_yHjNTJ"
      },
      "source": [
        "print the type of cities\n"
      ],
      "id": "jtk8J_yHjNTJ"
    },
    {
      "cell_type": "code",
      "execution_count": null,
      "metadata": {
        "id": "y9rdG29XjNTJ",
        "colab": {
          "base_uri": "https://localhost:8080/"
        },
        "outputId": "83a88b36-3681-4a61-8c7a-2a4cf8ec7b4c"
      },
      "outputs": [
        {
          "output_type": "execute_result",
          "data": {
            "text/plain": [
              "tuple"
            ]
          },
          "metadata": {},
          "execution_count": 131
        }
      ],
      "source": [
        "type(cities)"
      ],
      "id": "y9rdG29XjNTJ"
    },
    {
      "cell_type": "markdown",
      "metadata": {
        "id": "uXHSadWqjNTJ"
      },
      "source": [
        "Hey that implies you made a nested tuples!!"
      ],
      "id": "uXHSadWqjNTJ"
    },
    {
      "cell_type": "markdown",
      "metadata": {
        "id": "zViY-S_djNTJ"
      },
      "source": [
        "## DICTIONARY"
      ],
      "id": "zViY-S_djNTJ"
    },
    {
      "cell_type": "markdown",
      "metadata": {
        "id": "4NjUxRaZjNTK"
      },
      "source": [
        "### Create a dictionary d = {\"actor\":\"amir\",\"animal\":\"cat\",\"earth\":2,\"list\":[23,32,12]}"
      ],
      "id": "4NjUxRaZjNTK"
    },
    {
      "cell_type": "code",
      "execution_count": null,
      "metadata": {
        "id": "UCtEFPI4jNTK"
      },
      "outputs": [],
      "source": [
        "d = {\"actor\":\"amir\",\"animal\":\"cat\",\"earth\":2,\"list\":[23,32,12]}\n"
      ],
      "id": "UCtEFPI4jNTK"
    },
    {
      "cell_type": "markdown",
      "metadata": {
        "id": "OamenDk8jNTK"
      },
      "source": [
        "Print the value of d[0]"
      ],
      "id": "OamenDk8jNTK"
    },
    {
      "cell_type": "code",
      "execution_count": null,
      "metadata": {
        "id": "gion3awcjNTK",
        "colab": {
          "base_uri": "https://localhost:8080/",
          "height": 110
        },
        "outputId": "737fbeaf-304e-4cbd-84bf-3945f2ae15b2"
      },
      "outputs": [
        {
          "output_type": "error",
          "ename": "SyntaxError",
          "evalue": "Missing parentheses in call to 'print'. Did you mean print(...)? (<ipython-input-135-b7c4fd9404a8>, line 1)",
          "traceback": [
            "\u001b[0;36m  File \u001b[0;32m\"<ipython-input-135-b7c4fd9404a8>\"\u001b[0;36m, line \u001b[0;32m1\u001b[0m\n\u001b[0;31m    print d [0]\u001b[0m\n\u001b[0m    ^\u001b[0m\n\u001b[0;31mSyntaxError\u001b[0m\u001b[0;31m:\u001b[0m Missing parentheses in call to 'print'. Did you mean print(...)?\n"
          ]
        }
      ],
      "source": [
        "get()\n",
        "\n"
      ],
      "id": "gion3awcjNTK"
    },
    {
      "cell_type": "markdown",
      "metadata": {
        "id": "XYtrrUigjNTK"
      },
      "source": [
        "<b>Oops!! again an error. again a fun fact. Dictionary return the value for key if key is in the dictionary, else throws KeyError\n",
        "and we don't have key 0 here :( </b>"
      ],
      "id": "XYtrrUigjNTK"
    },
    {
      "cell_type": "markdown",
      "metadata": {
        "id": "62VXYnw1jNTK"
      },
      "source": [
        "Store the value of d[‘actor’] to a new variable actor."
      ],
      "id": "62VXYnw1jNTK"
    },
    {
      "cell_type": "code",
      "execution_count": null,
      "metadata": {
        "id": "kkBfNz81jNTK"
      },
      "outputs": [],
      "source": [
        "d = {\"actor\":\"amir\",\"animal\":\"cat\",\"earth\":2,\"list\":[23,32,12]}\n",
        "actor= d['actor']\n"
      ],
      "id": "kkBfNz81jNTK"
    },
    {
      "cell_type": "markdown",
      "metadata": {
        "id": "uFfuF569jNTL"
      },
      "source": [
        "Print the type of actor"
      ],
      "id": "uFfuF569jNTL"
    },
    {
      "cell_type": "code",
      "execution_count": null,
      "metadata": {
        "id": "bKbFXBxyjNTL",
        "colab": {
          "base_uri": "https://localhost:8080/"
        },
        "outputId": "9b6154e5-acd6-4665-d3a0-908e74b49e0e"
      },
      "outputs": [
        {
          "output_type": "execute_result",
          "data": {
            "text/plain": [
              "str"
            ]
          },
          "metadata": {},
          "execution_count": 141
        }
      ],
      "source": [
        "type (actor)"
      ],
      "id": "bKbFXBxyjNTL"
    },
    {
      "cell_type": "markdown",
      "metadata": {
        "id": "y549qN04jNTL"
      },
      "source": [
        "Store the value of d[‘list’] in new variable List."
      ],
      "id": "y549qN04jNTL"
    },
    {
      "cell_type": "code",
      "execution_count": null,
      "metadata": {
        "id": "I7GyOK8DjNTL"
      },
      "outputs": [],
      "source": [
        "d = {\"actor\":\"amir\",\"animal\":\"cat\",\"earth\":2,\"list\":[23,32,12]}\n",
        "List= d['list']"
      ],
      "id": "I7GyOK8DjNTL"
    },
    {
      "cell_type": "markdown",
      "metadata": {
        "id": "Ul1YMiuNjNTL"
      },
      "source": [
        "Print the type of List."
      ],
      "id": "Ul1YMiuNjNTL"
    },
    {
      "cell_type": "code",
      "execution_count": null,
      "metadata": {
        "id": "V0VdG9y_jNTL",
        "colab": {
          "base_uri": "https://localhost:8080/"
        },
        "outputId": "a5285ad3-ba2c-4b0d-d869-35fc5ac3c003"
      },
      "outputs": [
        {
          "output_type": "execute_result",
          "data": {
            "text/plain": [
              "list"
            ]
          },
          "metadata": {},
          "execution_count": 158
        }
      ],
      "source": [
        "type (List)"
      ],
      "id": "V0VdG9y_jNTL"
    },
    {
      "cell_type": "markdown",
      "metadata": {
        "id": "A0CEMABhjNTL"
      },
      "source": [
        "Create d1 = { ‘singer’ : ‘Kr$na’ , ‘album’: ‘Still here’, ‘genre’ : ‘hip-hop’}"
      ],
      "id": "A0CEMABhjNTL"
    },
    {
      "cell_type": "code",
      "execution_count": null,
      "metadata": {
        "id": "FCGCw5FEjNTL"
      },
      "outputs": [],
      "source": [
        "d1 = { 'singer' : 'Kr$na' , 'album': 'Still here', 'genre' : 'hip-hop'}"
      ],
      "id": "FCGCw5FEjNTL"
    },
    {
      "cell_type": "markdown",
      "metadata": {
        "id": "ybGIILrLjNTM"
      },
      "source": [
        "Merge d1 into d."
      ],
      "id": "ybGIILrLjNTM"
    },
    {
      "cell_type": "code",
      "source": [
        "d = {\"actor\": \"amir\", \"animal\": \"cat\"}\n",
        "d1 = {'singer': 'Krishna', 'album': 'Still here', 'genre': 'hip-hop'}\n",
        "\n",
        "d.update(d1)  # Merging d1 into d\n"
      ],
      "metadata": {
        "id": "0bjhulNynwrA"
      },
      "id": "0bjhulNynwrA",
      "execution_count": null,
      "outputs": []
    },
    {
      "cell_type": "markdown",
      "metadata": {
        "id": "jhAPX45ZjNTM"
      },
      "source": [
        "print d"
      ],
      "id": "jhAPX45ZjNTM"
    },
    {
      "cell_type": "code",
      "execution_count": null,
      "metadata": {
        "id": "785S26ryjNTM",
        "colab": {
          "base_uri": "https://localhost:8080/"
        },
        "outputId": "4afa4667-ed6f-4f7d-f3de-557bda42b4f0"
      },
      "outputs": [
        {
          "output_type": "stream",
          "name": "stdout",
          "text": [
            "{'actor': 'amir', 'animal': 'cat', 'singer': 'Krishna', 'album': 'Still here', 'genre': 'hip-hop'}\n"
          ]
        }
      ],
      "source": [
        "print(d)"
      ],
      "id": "785S26ryjNTM"
    },
    {
      "cell_type": "markdown",
      "metadata": {
        "id": "9E852mY2jNTM"
      },
      "source": [
        "Print all the keys in d"
      ],
      "id": "9E852mY2jNTM"
    },
    {
      "cell_type": "code",
      "execution_count": null,
      "metadata": {
        "id": "7K843OrLjNTM",
        "colab": {
          "base_uri": "https://localhost:8080/"
        },
        "outputId": "6883aefc-f083-4c79-dbe5-2369702404ac"
      },
      "outputs": [
        {
          "output_type": "stream",
          "name": "stdout",
          "text": [
            "['actor', 'animal', 'singer', 'album', 'genre']\n"
          ]
        }
      ],
      "source": [
        "print(list(d.keys()))"
      ],
      "id": "7K843OrLjNTM"
    },
    {
      "cell_type": "markdown",
      "metadata": {
        "id": "fiuzxbGkjNTN"
      },
      "source": [
        "Print all the values in d"
      ],
      "id": "fiuzxbGkjNTN"
    },
    {
      "cell_type": "code",
      "execution_count": null,
      "metadata": {
        "id": "Pyhh6r0pjNTN",
        "colab": {
          "base_uri": "https://localhost:8080/"
        },
        "outputId": "71f70c95-08cb-498a-f402-110b14fa0166"
      },
      "outputs": [
        {
          "output_type": "stream",
          "name": "stdout",
          "text": [
            "['amir', 'cat', 'Krishna', 'Still here', 'hip-hop']\n"
          ]
        }
      ],
      "source": [
        "print(list(d.values()))"
      ],
      "id": "Pyhh6r0pjNTN"
    },
    {
      "cell_type": "markdown",
      "metadata": {
        "id": "XSoe8GWmjNTN"
      },
      "source": [
        "Iterate over d, and print each key, value pair as this - (actor ----> amir)"
      ],
      "id": "XSoe8GWmjNTN"
    },
    {
      "cell_type": "code",
      "execution_count": null,
      "metadata": {
        "id": "O0iW9kiqjNTO",
        "colab": {
          "base_uri": "https://localhost:8080/"
        },
        "outputId": "2530c833-bd12-4fd1-e942-4a9f9885e1f9"
      },
      "outputs": [
        {
          "output_type": "stream",
          "name": "stdout",
          "text": [
            "actor ----> amir\n",
            "animal ----> cat\n",
            "singer ----> Krishna\n",
            "album ----> Still here\n",
            "genre ----> hip-hop\n"
          ]
        }
      ],
      "source": [
        "d = {'actor': 'amir', 'animal': 'cat', 'singer': 'Krishna', 'album': 'Still here', 'genre': 'hip-hop'}\n",
        "\n",
        "# Iterate over the dictionary and print each key-value pair in the desired format\n",
        "for key, value in d.items():\n",
        "    print(f\"{key} ----> {value}\")"
      ],
      "id": "O0iW9kiqjNTO"
    },
    {
      "cell_type": "markdown",
      "metadata": {
        "id": "Hhzm-EIsjNTO"
      },
      "source": [
        "count the number of occurences of charachters in string named \"sent\" using dictionary and print the same.\n"
      ],
      "id": "Hhzm-EIsjNTO"
    },
    {
      "cell_type": "code",
      "execution_count": null,
      "metadata": {
        "id": "IvRlvUAljNTP",
        "colab": {
          "base_uri": "https://localhost:8080/"
        },
        "outputId": "b060df60-7258-4759-d492-a266c8ce64c0"
      },
      "outputs": [
        {
          "output_type": "stream",
          "name": "stdout",
          "text": [
            "{'p': 1, 'r': 1, 'i': 1, 'y': 1, 'a': 2, 'n': 1, 'k': 1}\n"
          ]
        }
      ],
      "source": [
        "sent = \"priyanka\"\n",
        "\n",
        "# Initialize an empty dictionary to store character counts\n",
        "char_count = {}\n",
        "\n",
        "# Iterate over each character in the string\n",
        "for char in sent:\n",
        "    if char in char_count:\n",
        "        char_count[char] += 1\n",
        "    else:\n",
        "        char_count[char] = 1\n",
        "\n",
        "# Print the character counts\n",
        "print(char_count)\n",
        "\n"
      ],
      "id": "IvRlvUAljNTP"
    },
    {
      "cell_type": "code",
      "execution_count": null,
      "metadata": {
        "id": "ebNwyxUujNTP"
      },
      "outputs": [],
      "source": [],
      "id": "ebNwyxUujNTP"
    }
  ],
  "metadata": {
    "colab": {
      "provenance": [],
      "include_colab_link": true
    },
    "kernelspec": {
      "display_name": "Python 3",
      "language": "python",
      "name": "python3"
    },
    "language_info": {
      "codemirror_mode": {
        "name": "ipython",
        "version": 3
      },
      "file_extension": ".py",
      "mimetype": "text/x-python",
      "name": "python",
      "nbconvert_exporter": "python",
      "pygments_lexer": "ipython3",
      "version": "3.7.4"
    }
  },
  "nbformat": 4,
  "nbformat_minor": 5
}